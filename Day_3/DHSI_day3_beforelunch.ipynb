{
 "cells": [
  {
   "cell_type": "markdown",
   "metadata": {},
   "source": [
    "## Requirements"
   ]
  },
  {
   "cell_type": "code",
   "execution_count": null,
   "metadata": {},
   "outputs": [],
   "source": [
    "! pip install beautifulsoup4 lxml matplotlib"
   ]
  },
  {
   "cell_type": "code",
   "execution_count": null,
   "metadata": {},
   "outputs": [],
   "source": [
    "! pip install git+https://github.com/cmd-ntrf/pytesseract"
   ]
  },
  {
   "cell_type": "markdown",
   "metadata": {},
   "source": [
    "## Initialization"
   ]
  },
  {
   "cell_type": "code",
   "execution_count": 1,
   "metadata": {},
   "outputs": [],
   "source": [
    "import pyspark\n",
    "sc = pyspark.SparkContext()"
   ]
  },
  {
   "cell_type": "code",
   "execution_count": 2,
   "metadata": {},
   "outputs": [
    {
     "name": "stdout",
     "output_type": "stream",
     "text": [
      "18600102  18600216  18600402  18600517\t18600702  18600816  18601001  18601117\r\n",
      "18600103  18600217  18600403  18600518\t18600703  18600817  18601002  18601119\r\n",
      "18600104  18600218  18600404  18600519\t18600704  18600818  18601003  18601120\r\n",
      "18600105  18600220  18600405  18600521\t18600705  18600820  18601004  18601121\r\n",
      "18600106  18600221  18600406  18600522\t18600706  18600821  18601005  18601122\r\n",
      "18600107  18600222  18600407  18600523\t18600707  18600822  18601006  18601123\r\n",
      "18600109  18600223  18600409  18600524\t18600709  18600823  18601008  18601124\r\n",
      "18600110  18600224  18600410  18600525\t18600710  18600824  18601009  18601126\r\n",
      "18600111  18600225  18600411  18600526\t18600711  18600825  18601010  18601127\r\n",
      "18600112  18600227  18600412  18600528\t18600712  18600827  18601011  18601128\r\n",
      "18600113  18600228  18600413  18600529\t18600713  18600828  18601012  18601129\r\n",
      "18600114  18600229  18600414  18600530\t18600714  18600829  18601013  18601130\r\n",
      "18600116  18600301  18600416  18600531\t18600716  18600830  18601015  18601201\r\n",
      "18600117  18600302  18600417  18600601\t18600717  18600831  18601016  18601203\r\n",
      "18600118  18600303  18600418  18600602\t18600718  18600901  18601017  18601204\r\n",
      "18600119  18600305  18600419  18600604\t18600719  18600903  18601018  18601205\r\n",
      "18600120  18600306  18600420  18600605\t18600720  18600904  18601019  18601206\r\n",
      "18600121  18600307  18600421  18600606\t18600721  18600905  18601020  18601207\r\n",
      "18600123  18600308  18600423  18600607\t18600723  18600906  18601022  18601208\r\n",
      "18600124  18600309  18600424  18600608\t18600724  18600907  18601023  18601210\r\n",
      "18600125  18600310  18600425  18600609\t18600725  18600908  18601024  18601211\r\n",
      "18600126  18600312  18600426  18600611\t18600726  18600910  18601025  18601212\r\n",
      "18600127  18600313  18600427  18600612\t18600727  18600911  18601026  18601213\r\n",
      "18600128  18600314  18600428  18600613\t18600728  18600912  18601027  18601215\r\n",
      "18600130  18600315  18600430  18600614\t18600730  18600913  18601029  18601217\r\n",
      "18600131  18600316  18600501  18600615\t18600731  18600914  18601030  18601218\r\n",
      "18600201  18600317  18600502  18600616\t18600801  18600915  18601031  18601219\r\n",
      "18600202  18600319  18600503  18600618\t18600802  18600917  18601101  18601220\r\n",
      "18600203  18600320  18600504  18600619\t18600803  18600918  18601102  18601221\r\n",
      "18600204  18600321  18600505  18600620\t18600804  18600919  18601105  18601222\r\n",
      "18600206  18600322  18600507  18600621\t18600806  18600920  18601106  18601224\r\n",
      "18600207  18600323  18600508  18600622\t18600807  18600921  18601107  18601225\r\n",
      "18600208  18600324  18600509  18600623\t18600808  18600922  18601108  18601226\r\n",
      "18600209  18600326  18600510  18600625\t18600809  18600924  18601109  18601227\r\n",
      "18600210  18600327  18600511  18600626\t18600810  18600925  18601110  18601228\r\n",
      "18600211  18600328  18600512  18600627\t18600811  18600926  18601112  18601229\r\n",
      "18600213  18600329  18600514  18600628\t18600813  18600927  18601113  18601231\r\n",
      "18600214  18600330  18600515  18600629\t18600814  18600928  18601114\r\n",
      "18600215  18600331  18600516  18600630\t18600815  18600929  18601116\r\n"
     ]
    }
   ],
   "source": [
    "! ls /project/datasets/TimesOCR/TDA_GDA_1785-2007/1860"
   ]
  },
  {
   "cell_type": "code",
   "execution_count": 3,
   "metadata": {},
   "outputs": [],
   "source": [
    "xmlfiles = sc.wholeTextFiles('/project/datasets/TimesOCR/TDA_GDA_1785-2007/1860/1860*/*.xml',64)"
   ]
  },
  {
   "cell_type": "code",
   "execution_count": 4,
   "metadata": {},
   "outputs": [
    {
     "name": "stdout",
     "output_type": "stream",
     "text": [
      "59\n"
     ]
    }
   ],
   "source": [
    "print(xmlfiles.getNumPartitions())"
   ]
  },
  {
   "cell_type": "code",
   "execution_count": 5,
   "metadata": {},
   "outputs": [
    {
     "name": "stdout",
     "output_type": "stream",
     "text": [
      "310\n"
     ]
    }
   ],
   "source": [
    "print(xmlfiles.count())"
   ]
  },
  {
   "cell_type": "markdown",
   "metadata": {},
   "source": [
    "## Prepping on small data"
   ]
  },
  {
   "cell_type": "code",
   "execution_count": 6,
   "metadata": {},
   "outputs": [],
   "source": [
    "first_xml_file = xmlfiles.first()"
   ]
  },
  {
   "cell_type": "code",
   "execution_count": 7,
   "metadata": {},
   "outputs": [
    {
     "name": "stdout",
     "output_type": "stream",
     "text": [
      "file:/project/datasets/TimesOCR/TDA_GDA_1785-2007/1860/18600427/0FFO-1860-APR27.xml\n",
      "<?xml version=\"1.0\" encoding=\"ISO-8859-1\"?>\r\n",
      "<!DOCTYPE issue SYSTEM \"LTO_issue.dtd\">\r\n",
      "<issue>\r\n",
      "<id>0FFO-1860-APR27</id>\r\n",
      "<jn>The Times</jn>\r\n",
      "<ba>0FFO</ba>\r\n",
      "<is>23605</is>\r\n",
      "<da>April 27, 1860</da>\r\n",
      "<pf>18600427</pf>\r\n",
      "<ip>16</ip>\r\n",
      "<cp>Copyright 1860, The Times</cp>\r\n",
      "<article>\r\n",
      "<id>0FFO-1860-APR27-001-001</id>\r\n",
      "<ocr relevant=\"yes\">50.89</ocr>\r\n",
      "<sc>a</sc>\r\n",
      "<pi pgref=\"1\">0FFO-1860-APR27-001</pi>\r\n",
      "<ci pgref=\"1\" clip=\"1\">0FFO-1860-APR27-001-001-001</ci>\r\n",
      "<pa>1</pa>\r\n",
      "<pc>1</pc>\r\n",
      "<ti>Births</ti>\r\n",
      "<ct>Bir\n"
     ]
    }
   ],
   "source": [
    "filename = first_xml_file[0]\n",
    "newspaper_text = first_xml_file[1]\n",
    "print(filename)\n",
    "print(newspaper_text[:500])"
   ]
  },
  {
   "cell_type": "code",
   "execution_count": 12,
   "metadata": {},
   "outputs": [],
   "source": [
    "searchterm=\"Canada\""
   ]
  },
  {
   "cell_type": "code",
   "execution_count": 13,
   "metadata": {},
   "outputs": [],
   "source": [
    "def simple_process_day(fstring):\n",
    "    return fstring.count(searchterm)"
   ]
  },
  {
   "cell_type": "code",
   "execution_count": 14,
   "metadata": {},
   "outputs": [],
   "source": [
    "def newsonly_process_day(fstring):\n",
    "    inside_news = False\n",
    "    count = 0\n",
    "    for line in fstring.split(\"\\n\"):\n",
    "        if \"<ct>News</ct>\" in line:\n",
    "            inside_news = True\n",
    "        if \"</article>\" in line:\n",
    "            inside_news = False\n",
    "        if inside_news:\n",
    "            count += line.count(searchterm)\n",
    "    return count"
   ]
  },
  {
   "cell_type": "code",
   "execution_count": 15,
   "metadata": {},
   "outputs": [
    {
     "name": "stdout",
     "output_type": "stream",
     "text": [
      "output 1\n"
     ]
    }
   ],
   "source": [
    "print(\"output\", newsonly_process_day(newspaper_text))"
   ]
  },
  {
   "cell_type": "code",
   "execution_count": 16,
   "metadata": {},
   "outputs": [],
   "source": [
    "import lxml\n",
    "from bs4 import BeautifulSoup"
   ]
  },
  {
   "cell_type": "code",
   "execution_count": 17,
   "metadata": {},
   "outputs": [],
   "source": [
    "document = BeautifulSoup(newspaper_text, \"lxml\")"
   ]
  },
  {
   "cell_type": "code",
   "execution_count": 19,
   "metadata": {},
   "outputs": [],
   "source": [
    "articles = document.find_all('article')"
   ]
  },
  {
   "cell_type": "code",
   "execution_count": 35,
   "metadata": {},
   "outputs": [
    {
     "data": {
      "text/plain": [
       "<ct>News</ct>"
      ]
     },
     "execution_count": 35,
     "metadata": {},
     "output_type": "execute_result"
    }
   ],
   "source": [
    "articles[9].find('ct')"
   ]
  },
  {
   "cell_type": "code",
   "execution_count": 36,
   "metadata": {},
   "outputs": [],
   "source": [
    "news_article = articles[9]"
   ]
  },
  {
   "cell_type": "code",
   "execution_count": 44,
   "metadata": {},
   "outputs": [
    {
     "data": {
      "text/plain": [
       "<wd pos=\"1624,4820,1788,4853\">13BRouGss</wd>"
      ]
     },
     "execution_count": 44,
     "metadata": {},
     "output_type": "execute_result"
    }
   ],
   "source": [
    "news_article.find('text.cr').find_all('wd')[0]"
   ]
  },
  {
   "cell_type": "code",
   "execution_count": 54,
   "metadata": {},
   "outputs": [
    {
     "data": {
      "text/plain": [
       "{'pos': '1624,4820,1788,4853'}"
      ]
     },
     "execution_count": 54,
     "metadata": {},
     "output_type": "execute_result"
    }
   ],
   "source": [
    "news_article.find('text.cr').find_all('wd')[0].attrs"
   ]
  },
  {
   "cell_type": "code",
   "execution_count": null,
   "metadata": {},
   "outputs": [],
   "source": [
    "\"<a href='https://www.google.com'>Google</a>\""
   ]
  },
  {
   "cell_type": "code",
   "execution_count": 57,
   "metadata": {},
   "outputs": [
    {
     "data": {
      "text/plain": [
       "3"
      ]
     },
     "execution_count": 57,
     "metadata": {},
     "output_type": "execute_result"
    }
   ],
   "source": [
    "\"Oh Canada Canada Canada\".count(\"Canada\")"
   ]
  },
  {
   "cell_type": "code",
   "execution_count": 58,
   "metadata": {},
   "outputs": [],
   "source": [
    "def bs4_process_day(fstring):\n",
    "    soup = BeautifulSoup(fstring, \"lxml\")\n",
    "    count = 0\n",
    "    taglist = soup.find_all(\"article\")\n",
    "    for tag in taglist:\n",
    "        ct_tag = tag.find(\"ct\")\n",
    "        if ct_tag.string == \"News\":\n",
    "            articletext = tag.find(\"text.cr\")\n",
    "            words = articletext.find_all(\"wd\")\n",
    "            for w in words:\n",
    "                count += w.string == 'Canada'\n",
    "    return count"
   ]
  },
  {
   "cell_type": "code",
   "execution_count": 59,
   "metadata": {},
   "outputs": [
    {
     "name": "stdout",
     "output_type": "stream",
     "text": [
      "output 1\n"
     ]
    }
   ],
   "source": [
    "print(\"output\", bs4_process_day(newspaper_text))"
   ]
  },
  {
   "cell_type": "code",
   "execution_count": 60,
   "metadata": {},
   "outputs": [],
   "source": [
    "canada_counts = xmlfiles.mapValues(lambda document: bs4_process_day(document)).cache()"
   ]
  },
  {
   "cell_type": "code",
   "execution_count": 65,
   "metadata": {},
   "outputs": [
    {
     "data": {
      "text/plain": [
       "[('file:/project/datasets/TimesOCR/TDA_GDA_1785-2007/1860/18600427/0FFO-1860-APR27.xml',\n",
       "  1),\n",
       " ('file:/project/datasets/TimesOCR/TDA_GDA_1785-2007/1860/18600324/0FFO-1860-MAR24.xml',\n",
       "  0),\n",
       " ('file:/project/datasets/TimesOCR/TDA_GDA_1785-2007/1860/18600705/0FFO-1860-JUL05.xml',\n",
       "  2),\n",
       " ('file:/project/datasets/TimesOCR/TDA_GDA_1785-2007/1860/18600612/0FFO-1860-JUN12.xml',\n",
       "  0),\n",
       " ('file:/project/datasets/TimesOCR/TDA_GDA_1785-2007/1860/18601127/0FFO-1860-NOV27.xml',\n",
       "  0),\n",
       " ('file:/project/datasets/TimesOCR/TDA_GDA_1785-2007/1860/18600706/0FFO-1860-JUL06.xml',\n",
       "  0),\n",
       " ('file:/project/datasets/TimesOCR/TDA_GDA_1785-2007/1860/18600421/0FFO-1860-APR21.xml',\n",
       "  0),\n",
       " ('file:/project/datasets/TimesOCR/TDA_GDA_1785-2007/1860/18601008/0FFO-1860-OCT08.xml',\n",
       "  0),\n",
       " ('file:/project/datasets/TimesOCR/TDA_GDA_1785-2007/1860/18601229/0FFO-1860-DEC29.xml',\n",
       "  2),\n",
       " ('file:/project/datasets/TimesOCR/TDA_GDA_1785-2007/1860/18600511/0FFO-1860-MAY11.xml',\n",
       "  0)]"
      ]
     },
     "execution_count": 65,
     "metadata": {},
     "output_type": "execute_result"
    }
   ],
   "source": [
    "canada_counts.take(10)"
   ]
  },
  {
   "cell_type": "code",
   "execution_count": 71,
   "metadata": {},
   "outputs": [
    {
     "data": {
      "text/plain": [
       "'18600511'"
      ]
     },
     "execution_count": 71,
     "metadata": {},
     "output_type": "execute_result"
    }
   ],
   "source": [
    "'/project/datasets/TimesOCR/TDA_GDA_1785-2007/1860/18600511/0FFO-1860-MAY11.xml'.split('/')[-2]"
   ]
  },
  {
   "cell_type": "code",
   "execution_count": 72,
   "metadata": {},
   "outputs": [],
   "source": [
    "canada_counts_withdates = canada_counts.map(lambda pair: (pair[0].split('/')[-2], pair[1]))"
   ]
  },
  {
   "cell_type": "code",
   "execution_count": 73,
   "metadata": {},
   "outputs": [
    {
     "data": {
      "text/plain": [
       "('18600427', 1)"
      ]
     },
     "execution_count": 73,
     "metadata": {},
     "output_type": "execute_result"
    }
   ],
   "source": [
    "canada_counts_withdates.first()"
   ]
  },
  {
   "cell_type": "code",
   "execution_count": 74,
   "metadata": {},
   "outputs": [],
   "source": [
    "dates = canada_counts_withdates.collect()"
   ]
  },
  {
   "cell_type": "code",
   "execution_count": 75,
   "metadata": {},
   "outputs": [
    {
     "name": "stdout",
     "output_type": "stream",
     "text": [
      "1860-03-02\n"
     ]
    }
   ],
   "source": [
    "import datetime\n",
    "\n",
    "dd = datetime.date(1860,3,2)\n",
    "print(dd)"
   ]
  },
  {
   "cell_type": "code",
   "execution_count": 79,
   "metadata": {},
   "outputs": [
    {
     "data": {
      "text/plain": [
       "[('18600102', 2),\n",
       " ('18600103', 0),\n",
       " ('18600104', 0),\n",
       " ('18600105', 1),\n",
       " ('18600106', 1),\n",
       " ('18600107', 0),\n",
       " ('18600109', 0),\n",
       " ('18600110', 1),\n",
       " ('18600111', 0),\n",
       " ('18600112', 1)]"
      ]
     },
     "execution_count": 79,
     "metadata": {},
     "output_type": "execute_result"
    }
   ],
   "source": [
    "sorted(dates)[:10]"
   ]
  },
  {
   "cell_type": "code",
   "execution_count": 81,
   "metadata": {},
   "outputs": [],
   "source": [
    "python_dates=[]\n",
    "for d in dates:\n",
    "    date_in_datetime = datetime.date(int(d[0][0:4]),int(d[0][4:6]),int(d[0][6:8]))\n",
    "    python_dates.append((date_in_datetime,d[1]))"
   ]
  },
  {
   "cell_type": "code",
   "execution_count": 82,
   "metadata": {},
   "outputs": [
    {
     "name": "stderr",
     "output_type": "stream",
     "text": [
      "/dev/shm/user10/venv/lib/python3.6/site-packages/matplotlib/font_manager.py:278: UserWarning: Matplotlib is building the font cache using fc-list. This may take a moment.\n",
      "  'Matplotlib is building the font cache using fc-list. '\n"
     ]
    }
   ],
   "source": [
    "%matplotlib inline"
   ]
  },
  {
   "cell_type": "code",
   "execution_count": 83,
   "metadata": {},
   "outputs": [
    {
     "data": {
      "image/png": "[encoded data removed]",
      "text/plain": [
       "<Figure size 432x288 with 1 Axes>"
      ]
     },
     "metadata": {},
     "output_type": "display_data"
    }
   ],
   "source": [
    "import matplotlib.pyplot as plt\n",
    "import matplotlib\n",
    "from matplotlib.dates import drange\n",
    "from numpy import zeros\n",
    "\n",
    "date1 = datetime.datetime(1860,1,1)\n",
    "date2 = datetime.datetime(1861,1,1)\n",
    "delta = datetime.timedelta(days=1)\n",
    "dates = drange(date1,date2,delta)\n",
    "data=zeros(len(dates))\n",
    "\n",
    "# fill in the data\n",
    "\n",
    "for ele in python_dates:\n",
    "    data[ele[0].toordinal()-date1.toordinal()]=ele[1]\n",
    "    \n",
    "fig, ax = matplotlib.pyplot.subplots()\n",
    "\n",
    "ax.plot_date(dates,data)\n",
    "\n",
    "fig.autofmt_xdate()\n",
    "\n",
    "plt.show()\n"
   ]
  },
  {
   "cell_type": "markdown",
   "metadata": {},
   "source": [
    "# Heat Map"
   ]
  },
  {
   "cell_type": "code",
   "execution_count": 86,
   "metadata": {},
   "outputs": [],
   "source": [
    "f=open(\"/project/datasets/TimesOCR/TDA_GDA_1785-2007/1860/18600102/0FFO-1860-JAN02.xml\",encoding=\"iso-8859-1\")\n",
    "newspaper_text=f.read()\n",
    "f.close()"
   ]
  },
  {
   "cell_type": "code",
   "execution_count": null,
   "metadata": {},
   "outputs": [],
   "source": []
  },
  {
   "cell_type": "code",
   "execution_count": 172,
   "metadata": {},
   "outputs": [],
   "source": [
    "import re\n",
    "pos_regex = re.compile(r\"<wd pos=\\\"(\\d+,\\d+,\\d+,\\d+)\\\">\")\n",
    "# search_regex = re.compile(r\"\\b[tT][iI]r[mM][eE][sS]\\b\")\n",
    "search_regex = re.compile(r\"\\b[wW][aA][rR]\\b\")\n",
    "def process_newspaper(whole_newspaper):\n",
    "    list_of_lines = whole_newspaper.split(\"\\n\")\n",
    "    list_positions = []\n",
    "    for line in list_of_lines:\n",
    "        if len(re.findall(search_regex, line)) > 0:\n",
    "            m = re.search(pos_regex, line)\n",
    "            if m != None:\n",
    "                list_positions.append(m.group(1))\n",
    "    return list_positions"
   ]
  },
  {
   "cell_type": "code",
   "execution_count": 173,
   "metadata": {},
   "outputs": [],
   "source": [
    "line = \"Warren is at War in a warzone\""
   ]
  },
  {
   "cell_type": "code",
   "execution_count": 174,
   "metadata": {},
   "outputs": [
    {
     "name": "stdout",
     "output_type": "stream",
     "text": [
      "['847,3309,913,3335', '2804,4599,2866,4625', '1735,4696,1870,4727', '489,3604,627,3639', '4487,2338,4546,2362', '343,4298,483,4329', '562,4341,720,4371', '943,2204,1069,2241', '1555,3464,1614,3492', '3773,4360,3846,4396', '3808,4415,3879,4452', '68,4513,152,4551', '594,5304,699,5342', '185,5332,269,5370', '1373,1784,1455,1820', '1522,2579,1609,2616', '2106,3200,2187,3238', '4684,2703,4774,2743', '4247,5917,4318,5946', '272,1501,359,1539', '652,2397,736,2435', '382,3291,469,3331', '3856,4009,3929,4042', '4413,4831,4506,4865', '209,3083,282,3114', '539,3347,642,3386', '1341,1347,1423,1382', '914,1513,1000,1548', '845,2007,919,2042', '1398,5423,1472,5457', '2583,3980,2672,4018', '3258,5716,3336,5755', '835,5099,914,5132', '1788,3326,1862,3360', '726,3837,824,3874', '1889,3941,1961,3979', '1842,2870,1916,2900', '3094,2632,3227,2670', '604,1178,687,1205']\n"
     ]
    }
   ],
   "source": [
    "print(process_newspaper(newspaper_text))"
   ]
  },
  {
   "cell_type": "code",
   "execution_count": 175,
   "metadata": {},
   "outputs": [
    {
     "name": "stdout",
     "output_type": "stream",
     "text": [
      "312\n"
     ]
    }
   ],
   "source": [
    "# xmlfiles=sc.wholeTextFiles('/project/datasets/TimesOCR/TDA_GDA_1785-2007/1860/1860*/*.xml',64)\n",
    "xmlfiles=sc.wholeTextFiles('/project/datasets/PageScans/1916/1916*/*.xml',64)\n",
    "print(xmlfiles.count())"
   ]
  },
  {
   "cell_type": "code",
   "execution_count": 184,
   "metadata": {},
   "outputs": [],
   "source": [
    "position_rdd = xmlfiles.flatMap(lambda pair: process_newspaper(pair[1]))\n",
    "position_rdd_int = position_rdd.map(lambda string: tuple(map(int, string.split(\",\"))))"
   ]
  },
  {
   "cell_type": "code",
   "execution_count": 194,
   "metadata": {},
   "outputs": [],
   "source": [
    "from operator import add\n",
    "position_freq_rdd = position_rdd_int.map(lambda pos: (pos, 1)).reduceByKey(add)"
   ]
  },
  {
   "cell_type": "code",
   "execution_count": 195,
   "metadata": {},
   "outputs": [],
   "source": [
    "position_freq = position_freq_rdd.collect()"
   ]
  },
  {
   "cell_type": "code",
   "execution_count": null,
   "metadata": {},
   "outputs": [],
   "source": [
    "import numpy as np\n",
    "import matplotlib.pyplot as plt"
   ]
  },
  {
   "cell_type": "code",
   "execution_count": null,
   "metadata": {
    "scrolled": true
   },
   "outputs": [],
   "source": [
    "frontPage = np.zeros((7000,5250))\n",
    "frontPage = frontPage.astype('uint32')\n",
    "\n",
    "for (pos, count) in position_freq:\n",
    "    frontPage[pos[1]:pos[3], pos[0]:pos[2]] += count\n",
    "    \n",
    "\n",
    "plt.figure(figsize=(200,200))\n",
    "image = plt.imshow(frontPage)\n",
    "plt.show()"
   ]
  },
  {
   "cell_type": "code",
   "execution_count": null,
   "metadata": {},
   "outputs": [],
   "source": []
  }
 ],
 "metadata": {
  "kernelspec": {
   "display_name": "Python 3",
   "language": "python",
   "name": "python3"
  },
  "language_info": {
   "codemirror_mode": {
    "name": "ipython",
    "version": 3
   },
   "file_extension": ".py",
   "mimetype": "text/x-python",
   "name": "python",
   "nbconvert_exporter": "python",
   "pygments_lexer": "ipython3",
   "version": "3.6.3"
  }
 },
 "nbformat": 4,
 "nbformat_minor": 2
}
