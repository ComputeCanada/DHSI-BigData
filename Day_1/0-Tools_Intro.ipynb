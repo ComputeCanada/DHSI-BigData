{
 "cells": [
  {
   "cell_type": "markdown",
   "metadata": {
    "deletable": true,
    "editable": true
   },
   "source": [
    "# Introduction to Tools\n",
    "\n",
    "1. Basic Jupyter Notebook usage\n",
    "2. Functions in Python"
   ]
  },
  {
   "cell_type": "markdown",
   "metadata": {
    "deletable": true,
    "editable": true
   },
   "source": [
    "## 1. Basic Jupyter Notebook Usage\n",
    "\n",
    "### 1.1 Notebook Cells\n",
    "Notebooks are composed of executable cells. This text here is in a markdown cell. The following cell is a code cell."
   ]
  },
  {
   "cell_type": "code",
   "execution_count": null,
   "metadata": {
    "collapsed": false,
    "deletable": true,
    "editable": true
   },
   "outputs": [],
   "source": [
    "print(1 + 1)"
   ]
  },
  {
   "cell_type": "markdown",
   "metadata": {
    "deletable": true,
    "editable": true
   },
   "source": [
    "Python code cells allow you to execute arbitrary Python commands just like in any Python shell. Place your cursor inside the cell above, and press **\"Shift\" + \"Enter\"**to execute the code and advance to the next cell. You can also press **\"Ctrl\" + \"Enter\"** to execute the code and remain in the cell.\n",
    "\n",
    "These commands work for both Markdown and code cells. Executing a Markdown cell render the text inside it. Notebook can even render $\\LaTeX$ formula.\n",
    "\n",
    "Execute the following cell that initialize a variable."
   ]
  },
  {
   "cell_type": "code",
   "execution_count": null,
   "metadata": {
    "collapsed": true,
    "deletable": true,
    "editable": true
   },
   "outputs": [],
   "source": [
    "x = 42"
   ]
  },
  {
   "cell_type": "markdown",
   "metadata": {
    "deletable": true,
    "editable": true
   },
   "source": [
    "Like a Python interactive shell, if the returned values of a function or a statement are not stored in a variable or a tuple, the result is printed on the screen. However, if the cell includes multiple lines, only the result of the last one will appear. For example:"
   ]
  },
  {
   "cell_type": "code",
   "execution_count": null,
   "metadata": {
    "collapsed": false,
    "deletable": true,
    "editable": true
   },
   "outputs": [],
   "source": [
    "1 + 1\n",
    "sum([1,2,3,4,5])"
   ]
  },
  {
   "cell_type": "markdown",
   "metadata": {
    "deletable": true,
    "editable": true
   },
   "source": [
    "### 1.2. Notebook State"
   ]
  },
  {
   "cell_type": "markdown",
   "metadata": {
    "deletable": true,
    "editable": true
   },
   "source": [
    "Variables and their values are retained until the notebook is restarted. A cell that was executed is prefixed by a number `[1]`. Otherwise, it is prefixed by empty brackets `[ ]`.\n",
    "\n",
    "Cells that have been modified need to be rerun in order for the changes to be available to other cells.\n",
    "\n",
    "**EXEC** Run the following cell and follow the printed instructions."
   ]
  },
  {
   "cell_type": "code",
   "execution_count": null,
   "metadata": {
    "collapsed": false,
    "deletable": true,
    "editable": true
   },
   "outputs": [],
   "source": [
    "if x == 42:\n",
    "    print(\"Modify the preceding code cell to 40\")\n",
    "elif x == 40:\n",
    "    print(\"Go to the next cell\")"
   ]
  },
  {
   "cell_type": "markdown",
   "metadata": {
    "deletable": true,
    "editable": true
   },
   "source": [
    "### 1.3. Cells Modifications\n",
    "\n",
    "Cells can be inserted relatively to the current cell, either above or below.\n",
    "\n",
    "**EXEC** Use the `Insert` menu to insert a cell after this one."
   ]
  },
  {
   "cell_type": "markdown",
   "metadata": {
    "deletable": true,
    "editable": true
   },
   "source": [
    "Cells can also be `copy, cut, paste, delete, split, merge, move` through the `Edit` menu.\n",
    "\n",
    "**EXEC** Move the preceding code cell after this one."
   ]
  },
  {
   "cell_type": "markdown",
   "metadata": {
    "deletable": true,
    "editable": true
   },
   "source": [
    "### 1.4. What to do when things go South?\n",
    "\n",
    "Given the *free execution order* of the notebook, you might end up not knowing where you are, or cells not behaving like they should, . In those extreme cases, the notebook can be restarted.\n",
    "\n",
    "Menu: `Kernel -> Restart`\n",
    "\n",
    "You can then go back to the cell that you were at by executing all the preceding cell linearly.\n",
    "\n",
    "Menu: `Cell -> Run All Above`\n",
    "\n",
    "**EXEC** Restart the notebook kernel and execute every cell above."
   ]
  },
  {
   "cell_type": "markdown",
   "metadata": {
    "deletable": true,
    "editable": true
   },
   "source": [
    "### 1.5 Beyond the Notebook\n",
    "\n",
    "#### There is a shell\n",
    "Jupyter does not only provide Python Notebook, but almost any interpreted dynamic language has its own notebook kernel. Jupyter even provides a [shell in your browser.](/terminals/1)\n",
    "\n",
    "#### More notebooks\n",
    "Multiple notebooks can be executed [simultaneously](/tree#).  A list of running notebook is available through the [running tab of Jupyter](/tree#running))"
   ]
  },
  {
   "cell_type": "markdown",
   "metadata": {
    "deletable": true,
    "editable": true
   },
   "source": [
    "## 2. Functions in Python\n",
    "\n",
    "Apache Spark is mainly built in Scala. While supporting object-oriented programming, Scala has strong tendencies toward functional programming that show through the Python API. \n",
    "\n",
    "In this section, we will briefly how to define function in Python. "
   ]
  },
  {
   "cell_type": "markdown",
   "metadata": {
    "deletable": true,
    "editable": true
   },
   "source": [
    "### 2.1 Named function\n",
    "\n",
    "Functions in Python are generally declared and named such as this"
   ]
  },
  {
   "cell_type": "code",
   "execution_count": null,
   "metadata": {
    "collapsed": true,
    "deletable": true,
    "editable": true
   },
   "outputs": [],
   "source": [
    "def sum2(x, y):\n",
    "    result = x + y\n",
    "    return result"
   ]
  },
  {
   "cell_type": "markdown",
   "metadata": {
    "deletable": true,
    "editable": true
   },
   "source": [
    "`def` is a keyword that does not return anything and creates a 'name' in the local namespace. The defined function can than be used be refering to it by its name. This sort of function can include multiple lines."
   ]
  },
  {
   "cell_type": "code",
   "execution_count": null,
   "metadata": {
    "collapsed": false,
    "deletable": true,
    "editable": true
   },
   "outputs": [],
   "source": [
    "sum2(1,2)"
   ]
  },
  {
   "cell_type": "markdown",
   "metadata": {
    "deletable": true,
    "editable": true
   },
   "source": [
    "Since functions are object, they can also be provided as argument to other function. For example"
   ]
  },
  {
   "cell_type": "code",
   "execution_count": null,
   "metadata": {
    "collapsed": false,
    "deletable": true,
    "editable": true
   },
   "outputs": [],
   "source": [
    "def apply_pair(func, x1, x2, y1, y2):\n",
    "    return func(x1, y1), func(x2, y2)\n",
    "apply_pair(sum2, 1, 2, 3, 4)"
   ]
  },
  {
   "cell_type": "markdown",
   "metadata": {
    "deletable": true,
    "editable": true
   },
   "source": [
    "Python standard library module [`operator`](https://docs.python.org/3/library/operator.html) provides all sort of standard operator as functions that can be used instead of defining our owns."
   ]
  },
  {
   "cell_type": "code",
   "execution_count": null,
   "metadata": {
    "collapsed": false,
    "deletable": true,
    "editable": true
   },
   "outputs": [],
   "source": [
    "import operator\n",
    "\n",
    "print(apply_pair(operator.sub, 1, 2, 3, 4))\n",
    "print(apply_pair(operator.add, 1, 2, 3, 4))"
   ]
  },
  {
   "cell_type": "markdown",
   "metadata": {
    "deletable": true,
    "editable": true
   },
   "source": [
    "### 2.2 Anonymous function (`lambda`)\n",
    "\n",
    "Python supports the use of small **one-line** anonymous functions that are not bound to a name at runtime. The format of lambda is;\n",
    "```Python\n",
    "lambda arguments: expression\n",
    "```\n",
    "\n",
    "The unnamed function object created using the preceding statement is completely identical to\n",
    "```Python\n",
    "def name(arguments):\n",
    "    return expression\n",
    "```\n",
    "\n",
    "lambda can be used whenever you want to pass a simple, one-line expression as an argument."
   ]
  },
  {
   "cell_type": "code",
   "execution_count": null,
   "metadata": {
    "collapsed": false,
    "deletable": true,
    "editable": true
   },
   "outputs": [],
   "source": [
    "print(apply_pair(lambda x, y: x**y, 2, 2, 3, 0))"
   ]
  },
  {
   "cell_type": "markdown",
   "metadata": {
    "deletable": true,
    "editable": true
   },
   "source": [
    "This example use Python function named `filter` to create a new list of elements that match a predicate defined by a lambda function."
   ]
  },
  {
   "cell_type": "code",
   "execution_count": null,
   "metadata": {
    "collapsed": false,
    "deletable": true,
    "editable": true
   },
   "outputs": [],
   "source": [
    "list(filter(lambda x: x < 7, [1,2,3,4,5,6,7,9,10,11,12]))"
   ]
  },
  {
   "cell_type": "markdown",
   "metadata": {
    "deletable": true,
    "editable": true
   },
   "source": [
    "## References\n",
    "\n",
    "This notebook was based on the following material\n",
    "* https://github.com/spark-mooc/mooc-setup/blob/master/spark_tutorial_student.ipynb\n",
    "* http://chryswoods.com/parallel_python/lambda.html\n",
    "* http://sebastianraschka.com/Articles/2014_python_scope_and_namespaces.html"
   ]
  },
  {
   "cell_type": "code",
   "execution_count": null,
   "metadata": {
    "collapsed": true,
    "deletable": true,
    "editable": true
   },
   "outputs": [],
   "source": []
  }
 ],
 "metadata": {
  "kernelspec": {
   "display_name": "Python 3 (CQ-Spark)",
   "language": "python",
   "name": "spark-cq"
  },
  "language_info": {
   "codemirror_mode": {
    "name": "ipython",
    "version": 3
   },
   "file_extension": ".py",
   "mimetype": "text/x-python",
   "name": "python",
   "nbconvert_exporter": "python",
   "pygments_lexer": "ipython3",
   "version": "3.5.0"
  }
 },
 "nbformat": 4,
 "nbformat_minor": 0
}
