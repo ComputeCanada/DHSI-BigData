{
 "cells": [
  {
   "cell_type": "markdown",
   "metadata": {},
   "source": [
    "# Introduction to Tools\n",
    "\n",
    "1. Basic Jupyter Notebook usage\n",
    "2. Functions in Python"
   ]
  },
  {
   "cell_type": "markdown",
   "metadata": {},
   "source": [
    "## 1. Basic Jupyter Notebook Usage\n",
    "\n",
    "### 1.1 Notebook Cells\n",
    "Notebooks are composed of executable cells. This text here is in a [Markdown](https://en.wikipedia.org/wiki/Markdown) cell. The following cell is a code cell."
   ]
  },
  {
   "cell_type": "code",
   "execution_count": 1,
   "metadata": {},
   "outputs": [
    {
     "ename": "NameError",
     "evalue": "name 'x' is not defined",
     "output_type": "error",
     "traceback": [
      "\u001b[0;31m---------------------------------------------------------------------------\u001b[0m",
      "\u001b[0;31mNameError\u001b[0m                                 Traceback (most recent call last)",
      "\u001b[0;32m<ipython-input-1-fc17d851ef81>\u001b[0m in \u001b[0;36m<module>\u001b[0;34m()\u001b[0m\n\u001b[0;32m----> 1\u001b[0;31m \u001b[0mprint\u001b[0m\u001b[0;34m(\u001b[0m\u001b[0mx\u001b[0m\u001b[0;34m)\u001b[0m\u001b[0;34m\u001b[0m\u001b[0m\n\u001b[0m",
      "\u001b[0;31mNameError\u001b[0m: name 'x' is not defined"
     ]
    }
   ],
   "source": [
    "print(x)"
   ]
  },
  {
   "cell_type": "markdown",
   "metadata": {},
   "source": [
    "Python code cells allow you to execute arbitrary Python commands just like in any Python shell. Place your cursor inside the cell above, and press **\"Shift\" + \"Enter\"**to execute the code and advance to the next cell. You can also press **\"Ctrl\" + \"Enter\"** to execute the code and remain in the cell.\n",
    "\n",
    "These commands work for both Markdown and code cells. Executing a Markdown cell render the text inside it. Notebook can even render $\\LaTeX$ formula.\n",
    "\n",
    "$x^2$\n",
    "\n",
    "Execute the following cell that initialize a variable."
   ]
  },
  {
   "cell_type": "code",
   "execution_count": null,
   "metadata": {},
   "outputs": [],
   "source": [
    "x = 40"
   ]
  },
  {
   "cell_type": "markdown",
   "metadata": {},
   "source": [
    "Like a Python interactive shell, if the returned values of a function or a statement are not stored in a variable or a tuple, the result is printed on the screen. However, if the cell includes multiple lines, only the result of the last one will appear. For example:"
   ]
  },
  {
   "cell_type": "code",
   "execution_count": null,
   "metadata": {},
   "outputs": [],
   "source": [
    "print(1 + 1)\n",
    "\n",
    "print(sum([1,2,3,4,5]))"
   ]
  },
  {
   "cell_type": "markdown",
   "metadata": {},
   "source": [
    "### 1.2. Notebook State"
   ]
  },
  {
   "cell_type": "markdown",
   "metadata": {},
   "source": [
    "Variables and their values are kept in memory until the notebook is restarted. An executed cell is prefixed by a number `[1]`. Otherwise, it is prefixed by empty brackets `[ ]`.\n",
    "\n",
    "Cells that have been modified need to be rerun in order for the changes to be available to other cells.\n",
    "\n",
    "**EXEC** Run the following cell and follow the printed instructions."
   ]
  },
  {
   "cell_type": "code",
   "execution_count": null,
   "metadata": {},
   "outputs": [],
   "source": [
    "if x == 42:\n",
    "    print(\"Modify the preceding code cell to 40\")\n",
    "elif x == 40:\n",
    "    print(\"Go to the next cell\")\n",
    "else:\n",
    "    print('We are done!')"
   ]
  },
  {
   "cell_type": "markdown",
   "metadata": {},
   "source": [
    "### 1.3. Cells Modifications\n",
    "\n",
    "Cells can be inserted relatively to the current cell, either above or below.\n",
    "\n",
    "**EXEC** Use the `Insert` menu to insert a cell after this one."
   ]
  },
  {
   "cell_type": "markdown",
   "metadata": {},
   "source": [
    "Cells can also be `copy, cut, paste, delete, split, merge, move` through the `Edit` menu.\n",
    "\n",
    "**EXEC** Move the preceding code cell after this one."
   ]
  },
  {
   "cell_type": "markdown",
   "metadata": {},
   "source": [
    "I am taking some notes here"
   ]
  },
  {
   "cell_type": "markdown",
   "metadata": {},
   "source": [
    "### 1.4. What to do when things go south?\n",
    "\n",
    "Given the *free execution order* of the notebook, you might end up not knowing where you are, or cells might not behave like they should. If this happens, the notebook can be restarted.\n",
    "\n",
    "Menu: `Kernel -> Restart & Clear Output`\n",
    "\n",
    "You can then go back to the cell that you were at by executing all the preceding cells linearly.\n",
    "\n",
    "Menu: `Cell -> Run All Above`\n",
    "\n",
    "**EXEC** Restart the notebook kernel and execute every cell above."
   ]
  },
  {
   "cell_type": "markdown",
   "metadata": {},
   "source": [
    "### 1.5 Beyond the Notebook\n",
    "\n",
    "#### There is a shell\n",
    "Jupyter does not only provide Python Notebook, but almost any interpreted dynamic language has its own notebook kernel. Jupyter even provides a [shell in your browser.](/terminals/1)\n",
    "\n",
    "#### More notebooks\n",
    "Multiple notebooks can be executed [simultaneously](../#).  A list of running notebook is available through the [Running tab of Jupyter](../#running)."
   ]
  },
  {
   "cell_type": "markdown",
   "metadata": {},
   "source": [
    "## 2. Functions in Python\n",
    "\n",
    "Apache Spark is mainly built in Scala. While supporting object-oriented programming, Scala has strong tendencies toward functional programming that show through the Python API. \n",
    "\n",
    "In this section, we will briefly how to define functions in Python. "
   ]
  },
  {
   "cell_type": "markdown",
   "metadata": {},
   "source": [
    "### 2.1 Named function\n",
    "\n",
    "Functions in Python are generally declared and named such as this"
   ]
  },
  {
   "cell_type": "code",
   "execution_count": 3,
   "metadata": {},
   "outputs": [],
   "source": [
    "def sum2(x, y):\n",
    "    result = x + y\n",
    "    return result"
   ]
  },
  {
   "cell_type": "code",
   "execution_count": 4,
   "metadata": {},
   "outputs": [],
   "source": [
    "def sum3(x, y, z):\n",
    "    return x + y + z"
   ]
  },
  {
   "cell_type": "code",
   "execution_count": 5,
   "metadata": {},
   "outputs": [
    {
     "data": {
      "text/plain": [
       "3"
      ]
     },
     "execution_count": 5,
     "metadata": {},
     "output_type": "execute_result"
    }
   ],
   "source": [
    "sum2(1, 2)"
   ]
  },
  {
   "cell_type": "markdown",
   "metadata": {},
   "source": [
    "`def` is a keyword that does not return anything and creates a function identifier in the local namespace. The defined function can than be used by refering to it by its identifier. This sort of function can include multiple lines."
   ]
  },
  {
   "cell_type": "code",
   "execution_count": null,
   "metadata": {},
   "outputs": [],
   "source": [
    "sum2(1,2)"
   ]
  },
  {
   "cell_type": "markdown",
   "metadata": {},
   "source": [
    "Since functions are object, they can also be provided as argument to other function. For example"
   ]
  },
  {
   "cell_type": "code",
   "execution_count": 6,
   "metadata": {},
   "outputs": [
    {
     "data": {
      "text/plain": [
       "(4, 6)"
      ]
     },
     "execution_count": 6,
     "metadata": {},
     "output_type": "execute_result"
    }
   ],
   "source": [
    "def apply_pair(func, x1, x2, y1, y2):\n",
    "    return func(x1, y1), func(x2, y2)\n",
    "apply_pair(sum2, 1, 2, 3, 4)"
   ]
  },
  {
   "cell_type": "markdown",
   "metadata": {},
   "source": [
    "Python standard library module [`operator`](https://docs.python.org/3/library/operator.html) provides all sort of standard operator as functions that can be used instead of defining our owns."
   ]
  },
  {
   "cell_type": "code",
   "execution_count": 7,
   "metadata": {},
   "outputs": [
    {
     "name": "stdout",
     "output_type": "stream",
     "text": [
      "(-2, -2)\n",
      "(4, 6)\n"
     ]
    }
   ],
   "source": [
    "import operator\n",
    "\n",
    "print(apply_pair(operator.sub, 1, 2, 3, 4))\n",
    "print(apply_pair(operator.add, 1, 2, 3, 4))"
   ]
  },
  {
   "cell_type": "markdown",
   "metadata": {},
   "source": [
    "### 2.2 Anonymous function (`lambda`)\n",
    "\n",
    "Python supports the definition of small **one-line** anonymous functions that are not bound to an identifier at runtime. The format of lambda is:\n",
    "```Python\n",
    "lambda arguments: expression\n",
    "```\n",
    "\n",
    "The unnamed function object created using the preceding statement is completely identical to\n",
    "```Python\n",
    "def name(arguments):\n",
    "    return expression\n",
    "```\n",
    "\n",
    "lambda can be used whenever you want to pass a simple, one-line expression as an argument."
   ]
  },
  {
   "cell_type": "code",
   "execution_count": 8,
   "metadata": {},
   "outputs": [
    {
     "data": {
      "text/plain": [
       "<function __main__.<lambda>(x, y)>"
      ]
     },
     "execution_count": 8,
     "metadata": {},
     "output_type": "execute_result"
    }
   ],
   "source": [
    "lambda x, y: x**y"
   ]
  },
  {
   "cell_type": "code",
   "execution_count": 9,
   "metadata": {},
   "outputs": [
    {
     "name": "stdout",
     "output_type": "stream",
     "text": [
      "(8, 1)\n"
     ]
    }
   ],
   "source": [
    "print(apply_pair(lambda x, y: x**y, 2, 2, 3, 0))"
   ]
  },
  {
   "cell_type": "markdown",
   "metadata": {},
   "source": [
    "This example use Python function named `filter` to create a new list of elements that match a predicate defined by a lambda function."
   ]
  },
  {
   "cell_type": "code",
   "execution_count": 11,
   "metadata": {},
   "outputs": [],
   "source": [
    "def my_filter(x):\n",
    "    return x < 7"
   ]
  },
  {
   "cell_type": "code",
   "execution_count": 12,
   "metadata": {},
   "outputs": [
    {
     "data": {
      "text/plain": [
       "[1, 2, 3, 4, 5, 6]"
      ]
     },
     "execution_count": 12,
     "metadata": {},
     "output_type": "execute_result"
    }
   ],
   "source": [
    "list(filter(my_filter, [1,2,3,4,5,6,7,9,10,11,12]))"
   ]
  },
  {
   "cell_type": "markdown",
   "metadata": {},
   "source": [
    "## References\n",
    "\n",
    "This notebook was based on the following material\n",
    "* https://github.com/spark-mooc/mooc-setup/blob/master/spark_tutorial_student.ipynb\n",
    "* http://chryswoods.com/parallel_python/lambda.html\n",
    "* http://sebastianraschka.com/Articles/2014_python_scope_and_namespaces.html"
   ]
  },
  {
   "cell_type": "code",
   "execution_count": null,
   "metadata": {},
   "outputs": [],
   "source": []
  }
 ],
 "metadata": {
  "kernelspec": {
   "display_name": "Python 3",
   "language": "python",
   "name": "python3"
  },
  "language_info": {
   "codemirror_mode": {
    "name": "ipython",
    "version": 3
   },
   "file_extension": ".py",
   "mimetype": "text/x-python",
   "name": "python",
   "nbconvert_exporter": "python",
   "pygments_lexer": "ipython3",
   "version": "3.6.3"
  }
 },
 "nbformat": 4,
 "nbformat_minor": 1
}
