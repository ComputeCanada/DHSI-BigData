{
 "cells": [
  {
   "cell_type": "code",
   "execution_count": 18,
   "metadata": {
    "collapsed": false
   },
   "outputs": [
    {
     "name": "stdout",
     "output_type": "stream",
     "text": [
      "85,646,143,674\n",
      "85,646,143,674\n"
     ]
    }
   ],
   "source": [
    "#!/usr/bin/env python\n",
    "\n",
    "# This mapper reads OCR scans from The Times, finds a given word, and\n",
    "# outputs the page coordinates for each find on a single line.\n",
    "# The output is to be picked up by heatReducer.py\n",
    "\n",
    "import sys\n",
    "import re\n",
    "\n",
    "searchTerm = \"war\"\n",
    "searchTerm = searchTerm.lower()\n",
    "regEx = re.compile(r\"<wd pos=\\\"(\\d+,\\d+,\\d+,\\d+)\\\">([\\w\\'\\\",\\[\\]\\{\\}\\(\\)\\.]+)</wd>\")\n",
    "\n",
    "# will need RegEx since using STDIN and not lxml so won't have access to tree\n",
    "# General process:\n",
    "# 1. match line to <wd pos=\"(\\d+,\\d+,\\d+,\\d+)\">([\\w'\",\\[\\]\\(\\)\\{\\}\\.])+</wd>\n",
    "# 2. extract word group.\n",
    "# 3. convert word group to lowercase.\n",
    "# 4. if word group matches searchTerm then output the coordinates\n",
    "# 5. next line\n",
    "\n",
    "# input comes from STDIN (standard input)\n",
    "#for line in sys.stdin:\n",
    "\n",
    "# read from regular file for testing\n",
    "\n",
    "with open(\"SmallTestDataSet.xml\", \"r\") as f:\n",
    "    for line in f:\n",
    "        try:\n",
    "            # remove leading and trailing whitespace\n",
    "            line = line.strip()\n",
    "            m = re.search(regEx, line)\n",
    "            if m != None:\n",
    "                #print(m.group(0),m.group(1),m.group(2))\n",
    "                if m.group(2).lower() == searchTerm:\n",
    "                    print m.group(1)\n",
    "            \"\"\"\n",
    "            # increase counters\n",
    "            for word in words:\n",
    "                # write the results to STDOUT (standard output);\n",
    "                # what we output here will be the input for the\n",
    "                # Reduce step, i.e. the input for reducer.py\n",
    "                #\n",
    "                # tab-delimited; the trivial word count is 1\n",
    "                print '%s\\t%s' % (word, 1)\n",
    "            \"\"\"\n",
    "        except:\n",
    "            continue"
   ]
  },
  {
   "cell_type": "code",
   "execution_count": null,
   "metadata": {
    "collapsed": true
   },
   "outputs": [],
   "source": []
  }
 ],
 "metadata": {
  "kernelspec": {
   "display_name": "Python 3",
   "language": "python",
   "name": "python3"
  },
  "language_info": {
   "codemirror_mode": {
    "name": "ipython",
    "version": 3
   },
   "file_extension": ".py",
   "mimetype": "text/x-python",
   "name": "python",
   "nbconvert_exporter": "python",
   "pygments_lexer": "ipython3",
   "version": "3.5.1"
  }
 },
 "nbformat": 4,
 "nbformat_minor": 0
}
