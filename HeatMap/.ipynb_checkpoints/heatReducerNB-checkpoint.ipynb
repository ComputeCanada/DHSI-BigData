{
 "cells": [
  {
   "cell_type": "code",
   "execution_count": 4,
   "metadata": {
    "collapsed": false
   },
   "outputs": [
    {
     "data": {
      "text/plain": [
       "\"\\n        # this IF-switch only works because Hadoop sorts map output\\n        # by key (here: word) before it is passed to the reducer\\n        if current_word == word:\\n            current_count += count\\n        else:\\n            if current_word:\\n                # write result to STDOUT\\n                print '%s\\t%s' % (current_word, current_count)\\n            current_count = count\\n            current_word = word\\n\\n# do not forget to output the last word if needed!\\nif current_word == word:\\n    print '%s\\t%s' % (current_word, current_count)\\n\""
      ]
     },
     "execution_count": 4,
     "metadata": {},
     "output_type": "execute_result"
    }
   ],
   "source": [
    "#!/usr/bin/env python\n",
    "\n",
    "# This reducer takes input from heatMapper.py in the form of four numbers per\n",
    "# line as the coordinates for a found word on a front page of The Times.\n",
    "# These are loaded into an array which is the single output of this reducer.\n",
    "# A third program called heatPlot.py takes the output and produces the plot,\n",
    "# but outside of the hadoop framework.\n",
    "\n",
    "import sys\n",
    "\n",
    "import numpy as np\n",
    "#frontPage = np.zeros((7000,4850)) \n",
    "#frontPage = np.zeros((1000,1000)) \n",
    "#frontPage.dtype\n",
    "#frontPage = frontPage.astype('uint32')\n",
    "#frontPage.dtype\n",
    "#print(frontPage)\n",
    "\n",
    "current_posList = np.zeros(1000)\n",
    "current_posList = current_posList.astype('uint32')\n",
    "current_row = None\n",
    "# input comes from STDIN\n",
    "# for line in sys.stdin:\n",
    "\n",
    "draftOut = open(\"sampleReducerOutput.txt\",\"w\")\n",
    "\n",
    "# Need to use a regular file for testing outside of hadoop\n",
    "with open(\"sampleMapperOutput.txt\", \"r\") as f:\n",
    "    for line in f:\n",
    "    #try: \n",
    "        line = line.strip('\\n')\n",
    "        row, posList = line.split('\\t')\n",
    "        posList = [int(i) for i in str(posList).split(',')]\n",
    "        #print(current_row, row, posList)\n",
    "\n",
    "        if row == current_row:\n",
    "            #print('First If')\n",
    "            current_posList[posList[0]:posList[1]] +=1\n",
    "        else:\n",
    "            #print('First Else')\n",
    "            if current_row:\n",
    "                #print('Second If')\n",
    "                #print '{0}\\t{1}'.format(curr_word, curr_count)\n",
    "                #print('%s\\t%s' % (current_row, current_posList))\n",
    "                draftOut.write(current_row)\n",
    "                draftOut.write('\\t')\n",
    "                draftOut.write(','.join([str(e) for e in current_posList]))\n",
    "                draftOut.write('\\n')\n",
    "                #print('%s\\t%s') .format(current_row, current_posList)\n",
    "            current_row = row\n",
    "            current_posList = np.zeros(1000)\n",
    "            current_posList = current_posList.astype('uint32')\n",
    "            current_posList[posList[0]:posList[1]] +=1\n",
    "        #posList = [int(item) for item in posList]\n",
    "        #print(pos,posList)\n",
    "        #frontPage[posList[1]:posList[3],posList[0]:posList[2]] += 1\n",
    "    #except:\n",
    "    #    print('Except')\n",
    "    #    continue\n",
    "\n",
    "if row == current_row:\n",
    "    #print('Last If')\n",
    "    draftOut.write(current_row)\n",
    "    draftOut.write('\\t')\n",
    "    draftOut.write(','.join([str(e) for e in current_posList]))\n",
    "    #print('%s\\t%s' % (row, current_posList))\n",
    "\n",
    "\"\"\"\n",
    "import numpy as np\n",
    "a = np.asarray([ [1,2,3], [4,5,6], [7,8,9] ])\n",
    "a.tofile('foo.csv',sep=',',format='%10.5f')\n",
    "\"\"\"\n",
    "#print frontPage\n",
    "#with open(\"sampleReducerOutput.csv\",\"w\") as f:\n",
    "    #frontPage.tofile(f,sep=',')\n",
    "    #np.savetxt(f,frontPage,fmt='%10000u',delimiter=\",\")\n",
    "    #np.savetxt(f,frontPage,delimiter=\",\")\n",
    "    \n",
    "\n",
    "\"\"\"\n",
    "        # this IF-switch only works because Hadoop sorts map output\n",
    "        # by key (here: word) before it is passed to the reducer\n",
    "        if current_word == word:\n",
    "            current_count += count\n",
    "        else:\n",
    "            if current_word:\n",
    "                # write result to STDOUT\n",
    "                print '%s\\t%s' % (current_word, current_count)\n",
    "            current_count = count\n",
    "            current_word = word\n",
    "\n",
    "# do not forget to output the last word if needed!\n",
    "if current_word == word:\n",
    "    print '%s\\t%s' % (current_word, current_count)\n",
    "\"\"\""
   ]
  },
  {
   "cell_type": "code",
   "execution_count": 20,
   "metadata": {
    "collapsed": false
   },
   "outputs": [
    {
     "data": {
      "text/plain": [
       "array([[ 0.,  0.,  0.,  0.,  0.]])"
      ]
     },
     "execution_count": 20,
     "metadata": {},
     "output_type": "execute_result"
    }
   ],
   "source": [
    "import numpy as np\n",
    "frontPage = np.zeros((1,5))\n",
    "frontPage"
   ]
  },
  {
   "cell_type": "code",
   "execution_count": null,
   "metadata": {
    "collapsed": true
   },
   "outputs": [],
   "source": []
  }
 ],
 "metadata": {
  "kernelspec": {
   "display_name": "Python 3",
   "language": "python",
   "name": "python3"
  },
  "language_info": {
   "codemirror_mode": {
    "name": "ipython",
    "version": 3
   },
   "file_extension": ".py",
   "mimetype": "text/x-python",
   "name": "python",
   "nbconvert_exporter": "python",
   "pygments_lexer": "ipython3",
   "version": "3.5.1"
  }
 },
 "nbformat": 4,
 "nbformat_minor": 0
}
