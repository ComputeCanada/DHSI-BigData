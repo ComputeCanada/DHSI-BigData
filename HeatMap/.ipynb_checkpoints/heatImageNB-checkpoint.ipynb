{
 "cells": [
  {
   "cell_type": "code",
   "execution_count": 17,
   "metadata": {
    "collapsed": false
   },
   "outputs": [
    {
     "ename": "TypeError",
     "evalue": "strip arg must be None or str",
     "output_type": "error",
     "traceback": [
      "\u001b[0;31m---------------------------------------------------------------------------\u001b[0m",
      "\u001b[0;31mTypeError\u001b[0m                                 Traceback (most recent call last)",
      "\u001b[0;32m<ipython-input-17-68a5c5924d7b>\u001b[0m in \u001b[0;36m<module>\u001b[0;34m()\u001b[0m\n\u001b[1;32m     18\u001b[0m     \u001b[0marrayRowIndex\u001b[0m\u001b[0;34m,\u001b[0m \u001b[0marrayRow\u001b[0m \u001b[0;34m=\u001b[0m \u001b[0marrayLine\u001b[0m\u001b[0;34m.\u001b[0m\u001b[0mstrip\u001b[0m\u001b[0;34m(\u001b[0m\u001b[0;34m'\\n'\u001b[0m\u001b[0;34m)\u001b[0m\u001b[0;34m.\u001b[0m\u001b[0msplit\u001b[0m\u001b[0;34m(\u001b[0m\u001b[0;34m'\\t'\u001b[0m\u001b[0;34m)\u001b[0m\u001b[0;34m\u001b[0m\u001b[0m\n\u001b[1;32m     19\u001b[0m     \u001b[0marrayRowIndex\u001b[0m \u001b[0;34m=\u001b[0m \u001b[0mint\u001b[0m\u001b[0;34m(\u001b[0m\u001b[0marrayRowIndex\u001b[0m\u001b[0;34m)\u001b[0m\u001b[0;34m\u001b[0m\u001b[0m\n\u001b[0;32m---> 20\u001b[0;31m     \u001b[0marrayRow\u001b[0m \u001b[0;34m=\u001b[0m \u001b[0marrayRow\u001b[0m\u001b[0;34m.\u001b[0m\u001b[0mstrip\u001b[0m\u001b[0;34m(\u001b[0m\u001b[0;34m[\u001b[0m\u001b[0;34m'['\u001b[0m\u001b[0;34m,\u001b[0m\u001b[0;34m']'\u001b[0m\u001b[0;34m]\u001b[0m\u001b[0;34m)\u001b[0m\u001b[0;34m\u001b[0m\u001b[0m\n\u001b[0m\u001b[1;32m     21\u001b[0m     \u001b[0;31m#arrayRow = arrayRow.strip(']')\u001b[0m\u001b[0;34m\u001b[0m\u001b[0;34m\u001b[0m\u001b[0m\n\u001b[1;32m     22\u001b[0m     \u001b[0;31m#print(np.fromstring(arrayRow,dtype='uint32',sep=' '))\u001b[0m\u001b[0;34m\u001b[0m\u001b[0;34m\u001b[0m\u001b[0m\n",
      "\u001b[0;31mTypeError\u001b[0m: strip arg must be None or str"
     ]
    }
   ],
   "source": [
    "# Process here is to read each of the files from the numpy array output that were produced as singles by the reducer\n",
    "# and stitch them back together.  Key here is that each line in the array is stored as a separate file and that file\n",
    "# is broken up by the print with roughly a 75 character limit per line.  So, the file must be read, stitching together\n",
    "# the line and then added to the master array.  Once this is complete, produce the image.\n",
    "\n",
    "import numpy as np\n",
    "frontPage = np.zeros((1000,1000)) \n",
    "#frontPage = np.zeros((7000,5250)) \n",
    "#frontPage.dtype\n",
    "frontPage = frontPage.astype('uint32')\n",
    "#frontPage.dtype\n",
    "\n",
    "#for file in directory:\n",
    "arrayLine = \"\"\n",
    "for line in open(\"sampleReducerOutput.txt\",'r'):\n",
    "    arrayLine += line\n",
    "    #arrayLine = arrayLine.strip('\\n')\n",
    "    arrayRowIndex, arrayRow = arrayLine.strip('\\n').split('\\t')\n",
    "    arrayRowIndex = int(arrayRowIndex)\n",
    "    arrayRow = arrayRow.strip('[]')\n",
    "    #arrayRow = arrayRow.strip(']')\n",
    "    #print(np.fromstring(arrayRow,dtype='uint32',sep=' '))\n",
    "    #print(arrayRowIndex)\n",
    "    #print(frontPage)\n",
    "    frontPage[arrayRowIndex] += np.fromstring(arrayRow,dtype='uint32',sep=' ')\n",
    "    arrayLine = \"\"\n",
    "\n",
    "import matplotlib.pyplot as plt\n",
    "% matplotlib inline\n",
    "plt.figure(figsize=(200, 200))\n",
    "image  = plt.imshow(frontPage)\n",
    "plt.show()"
   ]
  },
  {
   "cell_type": "code",
   "execution_count": null,
   "metadata": {
    "collapsed": true
   },
   "outputs": [],
   "source": []
  },
  {
   "cell_type": "code",
   "execution_count": null,
   "metadata": {
    "collapsed": true
   },
   "outputs": [],
   "source": []
  }
 ],
 "metadata": {
  "kernelspec": {
   "display_name": "Python 3",
   "language": "python",
   "name": "python3"
  },
  "language_info": {
   "codemirror_mode": {
    "name": "ipython",
    "version": 3
   },
   "file_extension": ".py",
   "mimetype": "text/x-python",
   "name": "python",
   "nbconvert_exporter": "python",
   "pygments_lexer": "ipython3",
   "version": "3.5.1"
  }
 },
 "nbformat": 4,
 "nbformat_minor": 0
}
