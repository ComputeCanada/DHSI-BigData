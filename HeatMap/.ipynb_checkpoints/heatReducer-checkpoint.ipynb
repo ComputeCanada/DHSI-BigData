{
 "cells": [
  {
   "cell_type": "code",
   "execution_count": null,
   "metadata": {
    "collapsed": false
   },
   "outputs": [],
   "source": [
    "#!/usr/bin/env python\n",
    "\n",
    "# This reducer takes input from heatMapper.py in the form of four numbers per\n",
    "# line as the coordinates for a found word on a front page of The Times.\n",
    "# These are loaded into an array which is the single output of this reducer.\n",
    "# A third program called heatPlot.py takes the output and produces the plot,\n",
    "# but outside of the hadoop framework.\n",
    "\n",
    "import sys\n",
    "import numpy as np\n",
    "\n",
    "current_posList = np.zeros(4850)\n",
    "current_posList = current_posList.astype('uint32')\n",
    "current_row = None\n",
    "\n",
    "# input comes from STDIN\n",
    "for line in sys.stdin:\n",
    "    line = line.strip('\\n')\n",
    "    row, posList = line.split('\\t')\n",
    "    posList = [int(i) for i in str(posList).split(',')]\n",
    "    #print(current_row, row, posList)\n",
    "\n",
    "    if row == current_row:\n",
    "        current_posList[posList[0]:posList[1]] +=1\n",
    "    else:\n",
    "        if current_row:\n",
    "            print ('%s\\t%s') % (current_row, ','.join([str(e) for e in current_posList]))\n",
    "        current_row = row\n",
    "        current_posList = np.zeros(4850)\n",
    "        current_posList = current_posList.astype('uint32')\n",
    "        current_posList[posList[0]:posList[1]] +=1\n",
    "\n",
    "#Capture the last entry\n",
    "if row == current_row:\n",
    "    print ('%s\\t%s') % (current_row, ','.join([str(e) for e in current_posList]))"
   ]
  }
 ],
 "metadata": {
  "kernelspec": {
   "display_name": "Python 3",
   "language": "python",
   "name": "python3"
  },
  "language_info": {
   "codemirror_mode": {
    "name": "ipython",
    "version": 3
   },
   "file_extension": ".py",
   "mimetype": "text/x-python",
   "name": "python",
   "nbconvert_exporter": "python",
   "pygments_lexer": "ipython3",
   "version": "3.5.1"
  }
 },
 "nbformat": 4,
 "nbformat_minor": 0
}
