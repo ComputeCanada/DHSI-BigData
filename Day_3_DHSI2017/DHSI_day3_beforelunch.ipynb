{
 "cells": [
  {
   "cell_type": "markdown",
   "metadata": {},
   "source": [
    "## Requirements"
   ]
  },
  {
   "cell_type": "code",
   "execution_count": null,
   "metadata": {},
   "outputs": [],
   "source": [
    "! pip install beautifulsoup4 lxml matplotlib"
   ]
  },
  {
   "cell_type": "code",
   "execution_count": 1,
   "metadata": {},
   "outputs": [
    {
     "name": "stdout",
     "output_type": "stream",
     "text": [
      "Looking in links: /cvmfs/soft.computecanada.ca/custom/python/wheelhouse/avx2, /cvmfs/soft.computecanada.ca/custom/python/wheelhouse/generic\n",
      "Collecting git+https://github.com/cmd-ntrf/pytesseract\n",
      "  Cloning https://github.com/cmd-ntrf/pytesseract to /tmp/pip-req-build-95sceox7\n",
      "Requirement already satisfied (use --upgrade to upgrade): pytesseract==0.2.2 from git+https://github.com/cmd-ntrf/pytesseract in /dev/shm/user01/venv/lib/python3.6/site-packages\n",
      "Requirement already satisfied: Pillow in /dev/shm/user01/venv/lib/python3.6/site-packages (from pytesseract==0.2.2) (5.1.0)\n",
      "Building wheels for collected packages: pytesseract\n",
      "  Running setup.py bdist_wheel for pytesseract ... \u001b[?25ldone\n",
      "\u001b[?25h  Stored in directory: /tmp/pip-ephem-wheel-cache-irxdjm5r/wheels/6c/00/bf/bcc188aecb111714760376905bc8a53800cc6934cbe378db3c\n",
      "Successfully built pytesseract\n"
     ]
    }
   ],
   "source": [
    "! pip install git+https://github.com/cmd-ntrf/pytesseract"
   ]
  },
  {
   "cell_type": "markdown",
   "metadata": {},
   "source": [
    "## Initialization"
   ]
  },
  {
   "cell_type": "code",
   "execution_count": 2,
   "metadata": {},
   "outputs": [],
   "source": [
    "import pyspark\n",
    "sc = pyspark.SparkContext()"
   ]
  },
  {
   "cell_type": "code",
   "execution_count": 3,
   "metadata": {},
   "outputs": [],
   "source": [
    "xmlfiles=sc.wholeTextFiles('/project/datasets/TimesOCR/TDA_GDA_1785-2007/1860/1860*/*.xml',64)"
   ]
  },
  {
   "cell_type": "code",
   "execution_count": 4,
   "metadata": {},
   "outputs": [
    {
     "name": "stdout",
     "output_type": "stream",
     "text": [
      "59\n",
      "310\n"
     ]
    }
   ],
   "source": [
    "print(xmlfiles.getNumPartitions())\n",
    "print(xmlfiles.count())"
   ]
  },
  {
   "cell_type": "markdown",
   "metadata": {},
   "source": [
    "## Prepping on small data"
   ]
  },
  {
   "cell_type": "code",
   "execution_count": 5,
   "metadata": {},
   "outputs": [
    {
     "name": "stdout",
     "output_type": "stream",
     "text": [
      "file:/project/datasets/TimesOCR/TDA_GDA_1785-2007/1860/18600427/0FFO-1860-APR27.xml\n",
      "<?xml version=\"1.0\" encoding=\"ISO-8859-1\"?>\r\n",
      "<!DOCTYPE issue SYSTEM \"LTO_issue.dtd\">\r\n",
      "<issue>\r\n",
      "<id>0FFO-1860-APR27</id>\r\n",
      "<jn>The Times</jn>\r\n",
      "<ba>0FFO</ba>\r\n",
      "<is>23605</is>\r\n",
      "<da>April 27, 1860</da>\r\n",
      "<pf>18600427</pf>\r\n",
      "<ip>16</ip>\r\n",
      "<cp>Copyright 1860, The Times</cp>\r\n",
      "<article>\r\n",
      "<id>0FFO-1860-APR27-001-001</id>\r\n",
      "<ocr relevant=\"yes\">50.89</ocr>\r\n",
      "<sc>a</sc>\r\n",
      "<pi pgref=\"1\">0FFO-1860-APR27-001</pi>\r\n",
      "<ci pgref=\"1\" clip=\"1\">0FFO-1860-APR27-001-001-001</ci>\r\n",
      "<pa>1</pa>\r\n",
      "<pc>1</pc>\r\n",
      "<ti>Births</ti>\r\n",
      "<ct>Bir\n"
     ]
    }
   ],
   "source": [
    "first_xml_file = xmlfiles.first()\n",
    "filename = first_xml_file[0]\n",
    "newspaper_text = first_xml_file[1]\n",
    "print(filename)\n",
    "print(newspaper_text[:500])"
   ]
  },
  {
   "cell_type": "code",
   "execution_count": 6,
   "metadata": {},
   "outputs": [],
   "source": [
    "searchterm=\"Canada\""
   ]
  },
  {
   "cell_type": "code",
   "execution_count": 7,
   "metadata": {},
   "outputs": [],
   "source": [
    "def simple_process_day(fstring):\n",
    "    return fstring.count(searchterm)"
   ]
  },
  {
   "cell_type": "code",
   "execution_count": 8,
   "metadata": {},
   "outputs": [],
   "source": [
    "def newsonly_process_day(fstring):\n",
    "    inside_news = False\n",
    "    count = 0\n",
    "    for line in fstring.split(\"\\n\"):\n",
    "        if \"<ct>News</ct>\" in line:\n",
    "            inside_news = True\n",
    "        if \"</article>\" in line:\n",
    "            inside_news = False\n",
    "        if inside_news:\n",
    "            count += line.count(searchterm)\n",
    "    return count"
   ]
  },
  {
   "cell_type": "code",
   "execution_count": 9,
   "metadata": {},
   "outputs": [
    {
     "name": "stdout",
     "output_type": "stream",
     "text": [
      "output 1\n"
     ]
    }
   ],
   "source": [
    "print(\"output\", newsonly_process_day(newspaper_text))"
   ]
  },
  {
   "cell_type": "code",
   "execution_count": 10,
   "metadata": {},
   "outputs": [],
   "source": [
    "import lxml\n",
    "from bs4 import BeautifulSoup"
   ]
  },
  {
   "cell_type": "code",
   "execution_count": 11,
   "metadata": {},
   "outputs": [],
   "source": [
    "def bs4_process_day(fstring):\n",
    "    soup = BeautifulSoup(fstring, \"lxml\")\n",
    "    count = 0\n",
    "    taglist = soup.find_all(\"article\")\n",
    "    for tag in taglist:\n",
    "        ct_tag = tag.find(\"ct\")\n",
    "        if ct_tag.string == \"News\":\n",
    "            articletext = tag.find(\"text.cr\")\n",
    "            words = articletext.find_all(\"wd\")\n",
    "            for w in words:\n",
    "                count += w.string.count(searchterm)\n",
    "    return count"
   ]
  },
  {
   "cell_type": "code",
   "execution_count": 12,
   "metadata": {},
   "outputs": [
    {
     "name": "stdout",
     "output_type": "stream",
     "text": [
      "output 1\n"
     ]
    }
   ],
   "source": [
    "print(\"output\", bs4_process_day(newspaper_text))"
   ]
  },
  {
   "cell_type": "code",
   "execution_count": 13,
   "metadata": {},
   "outputs": [
    {
     "data": {
      "text/plain": [
       "310"
      ]
     },
     "execution_count": 13,
     "metadata": {},
     "output_type": "execute_result"
    }
   ],
   "source": [
    "canada_counts = xmlfiles.map(lambda el: newsonly_process_day(el[1]))\n",
    "canada_counts.count()"
   ]
  },
  {
   "cell_type": "code",
   "execution_count": 14,
   "metadata": {},
   "outputs": [
    {
     "data": {
      "text/plain": [
       "1"
      ]
     },
     "execution_count": 14,
     "metadata": {},
     "output_type": "execute_result"
    }
   ],
   "source": [
    "canada_counts.first()"
   ]
  },
  {
   "cell_type": "code",
   "execution_count": 15,
   "metadata": {},
   "outputs": [
    {
     "data": {
      "text/plain": [
       "[('18600427', 1), ('18600324', 0), ('18600705', 2), ('18600612', 0)]"
      ]
     },
     "execution_count": 15,
     "metadata": {},
     "output_type": "execute_result"
    }
   ],
   "source": [
    "canada_counts_withdates=xmlfiles.map(lambda el: (el[0][55:63],newsonly_process_day(el[1])))\n",
    "canada_counts_withdates.take(4)"
   ]
  },
  {
   "cell_type": "code",
   "execution_count": 16,
   "metadata": {},
   "outputs": [],
   "source": [
    "dates=canada_counts_withdates.collect()"
   ]
  },
  {
   "cell_type": "code",
   "execution_count": 17,
   "metadata": {},
   "outputs": [
    {
     "name": "stdout",
     "output_type": "stream",
     "text": [
      "1860-03-02\n"
     ]
    }
   ],
   "source": [
    "import datetime\n",
    "\n",
    "dd=datetime.date(1860,3,2)\n",
    "print(dd)"
   ]
  },
  {
   "cell_type": "code",
   "execution_count": 18,
   "metadata": {},
   "outputs": [
    {
     "name": "stdout",
     "output_type": "stream",
     "text": [
      "[(datetime.date(1860, 4, 27), 1), (datetime.date(1860, 3, 24), 0), (datetime.date(1860, 7, 5), 2), (datetime.date(1860, 6, 12), 0), (datetime.date(1860, 11, 27), 0), (datetime.date(1860, 7, 6), 0), (datetime.date(1860, 4, 21), 2), (datetime.date(1860, 10, 8), 1), (datetime.date(1860, 12, 29), 4), (datetime.date(1860, 5, 11), 0), (datetime.date(1860, 4, 13), 2), (datetime.date(1860, 6, 4), 1), (datetime.date(1860, 6, 18), 0), (datetime.date(1860, 4, 25), 2), (datetime.date(1860, 11, 5), 2), (datetime.date(1860, 8, 6), 2), (datetime.date(1860, 5, 26), 1), (datetime.date(1860, 6, 14), 1), (datetime.date(1860, 12, 13), 0), (datetime.date(1860, 6, 1), 0), (datetime.date(1860, 12, 15), 0), (datetime.date(1860, 10, 2), 12), (datetime.date(1860, 8, 13), 0), (datetime.date(1860, 3, 2), 7), (datetime.date(1860, 4, 2), 1), (datetime.date(1860, 5, 23), 0), (datetime.date(1860, 9, 7), 7), (datetime.date(1860, 8, 15), 1), (datetime.date(1860, 2, 7), 0), (datetime.date(1860, 8, 2), 0), (datetime.date(1860, 8, 8), 1), (datetime.date(1860, 6, 2), 1), (datetime.date(1860, 4, 26), 1), (datetime.date(1860, 2, 28), 1), (datetime.date(1860, 9, 21), 0), (datetime.date(1860, 4, 11), 0), (datetime.date(1860, 10, 22), 3), (datetime.date(1860, 6, 6), 0), (datetime.date(1860, 12, 5), 0), (datetime.date(1860, 1, 19), 3), (datetime.date(1860, 7, 10), 2), (datetime.date(1860, 3, 14), 3), (datetime.date(1860, 3, 6), 2), (datetime.date(1860, 2, 9), 1), (datetime.date(1860, 12, 17), 0), (datetime.date(1860, 11, 1), 0), (datetime.date(1860, 11, 7), 0), (datetime.date(1860, 5, 10), 0), (datetime.date(1860, 11, 28), 1), (datetime.date(1860, 6, 8), 0), (datetime.date(1860, 8, 4), 1), (datetime.date(1860, 6, 19), 0), (datetime.date(1860, 9, 24), 2), (datetime.date(1860, 4, 6), 0), (datetime.date(1860, 4, 14), 0), (datetime.date(1860, 6, 16), 1), (datetime.date(1860, 12, 24), 0), (datetime.date(1860, 7, 18), 2), (datetime.date(1860, 11, 6), 8), (datetime.date(1860, 6, 9), 1), (datetime.date(1860, 2, 4), 0), (datetime.date(1860, 10, 29), 3), (datetime.date(1860, 8, 23), 0), (datetime.date(1860, 11, 29), 1), (datetime.date(1860, 9, 6), 5), (datetime.date(1860, 7, 21), 3), (datetime.date(1860, 3, 12), 0), (datetime.date(1860, 4, 12), 3), (datetime.date(1860, 4, 18), 1), (datetime.date(1860, 8, 7), 4), (datetime.date(1860, 12, 11), 4), (datetime.date(1860, 5, 29), 2), (datetime.date(1860, 3, 7), 1), (datetime.date(1860, 5, 15), 2), (datetime.date(1860, 11, 14), 0), (datetime.date(1860, 11, 26), 0), (datetime.date(1860, 10, 13), 1), (datetime.date(1860, 8, 9), 0), (datetime.date(1860, 5, 24), 1), (datetime.date(1860, 5, 14), 0), (datetime.date(1860, 7, 17), 2), (datetime.date(1860, 11, 16), 3), (datetime.date(1860, 8, 14), 0), (datetime.date(1860, 6, 25), 1), (datetime.date(1860, 12, 21), 0), (datetime.date(1860, 4, 16), 4), (datetime.date(1860, 1, 26), 1), (datetime.date(1860, 4, 9), 0), (datetime.date(1860, 8, 1), 2), (datetime.date(1860, 12, 18), 0), (datetime.date(1860, 10, 17), 6), (datetime.date(1860, 9, 4), 3), (datetime.date(1860, 12, 10), 3), (datetime.date(1860, 9, 5), 0), (datetime.date(1860, 10, 5), 2), (datetime.date(1860, 2, 18), 0), (datetime.date(1860, 10, 27), 3), (datetime.date(1860, 4, 19), 0), (datetime.date(1860, 7, 28), 0), (datetime.date(1860, 5, 1), 1), (datetime.date(1860, 10, 20), 0), (datetime.date(1860, 3, 16), 0), (datetime.date(1860, 5, 19), 0), (datetime.date(1860, 12, 6), 0), (datetime.date(1860, 11, 21), 0), (datetime.date(1860, 3, 8), 0), (datetime.date(1860, 8, 10), 1), (datetime.date(1860, 1, 20), 0), (datetime.date(1860, 6, 7), 0), (datetime.date(1860, 2, 20), 1), (datetime.date(1860, 8, 20), 0), (datetime.date(1860, 2, 21), 1), (datetime.date(1860, 1, 2), 3), (datetime.date(1860, 1, 10), 1), (datetime.date(1860, 11, 19), 0), (datetime.date(1860, 7, 16), 3), (datetime.date(1860, 6, 13), 2), (datetime.date(1860, 6, 20), 2), (datetime.date(1860, 6, 27), 1), (datetime.date(1860, 11, 23), 0), (datetime.date(1860, 1, 3), 0), (datetime.date(1860, 9, 17), 1), (datetime.date(1860, 6, 28), 2), (datetime.date(1860, 10, 11), 1), (datetime.date(1860, 12, 1), 2), (datetime.date(1860, 1, 23), 0), (datetime.date(1860, 2, 15), 1), (datetime.date(1860, 11, 13), 1), (datetime.date(1860, 1, 16), 1), (datetime.date(1860, 7, 27), 0), (datetime.date(1860, 1, 25), 0), (datetime.date(1860, 5, 30), 1), (datetime.date(1860, 8, 22), 5), (datetime.date(1860, 5, 31), 0), (datetime.date(1860, 5, 3), 0), (datetime.date(1860, 10, 3), 0), (datetime.date(1860, 2, 1), 0), (datetime.date(1860, 1, 7), 0), (datetime.date(1860, 4, 17), 0), (datetime.date(1860, 12, 20), 1), (datetime.date(1860, 2, 22), 3), (datetime.date(1860, 9, 29), 3), (datetime.date(1860, 1, 9), 0), (datetime.date(1860, 5, 18), 0), (datetime.date(1860, 2, 24), 2), (datetime.date(1860, 12, 3), 2), (datetime.date(1860, 2, 6), 1), (datetime.date(1860, 2, 11), 0), (datetime.date(1860, 8, 28), 0), (datetime.date(1860, 12, 4), 2), (datetime.date(1860, 2, 27), 1), (datetime.date(1860, 11, 10), 1), (datetime.date(1860, 10, 31), 2), (datetime.date(1860, 5, 21), 2), (datetime.date(1860, 7, 25), 3), (datetime.date(1860, 2, 10), 0), (datetime.date(1860, 4, 28), 0), (datetime.date(1860, 1, 28), 0), (datetime.date(1860, 10, 24), 2), (datetime.date(1860, 6, 21), 0), (datetime.date(1860, 5, 17), 3), (datetime.date(1860, 8, 16), 0), (datetime.date(1860, 7, 19), 0), (datetime.date(1860, 9, 28), 0), (datetime.date(1860, 4, 10), 1), (datetime.date(1860, 7, 11), 2), (datetime.date(1860, 1, 27), 0), (datetime.date(1860, 3, 9), 3), (datetime.date(1860, 1, 5), 1), (datetime.date(1860, 2, 13), 0), (datetime.date(1860, 7, 7), 0), (datetime.date(1860, 1, 21), 0), (datetime.date(1860, 9, 15), 0), (datetime.date(1860, 3, 21), 0), (datetime.date(1860, 11, 2), 3), (datetime.date(1860, 2, 23), 0), (datetime.date(1860, 6, 22), 1), (datetime.date(1860, 1, 6), 1), (datetime.date(1860, 3, 29), 1), (datetime.date(1860, 8, 30), 6), (datetime.date(1860, 7, 31), 0), (datetime.date(1860, 11, 8), 1), (datetime.date(1860, 8, 25), 1), (datetime.date(1860, 3, 27), 2), (datetime.date(1860, 9, 25), 8), (datetime.date(1860, 8, 29), 1), (datetime.date(1860, 7, 23), 3), (datetime.date(1860, 4, 5), 2), (datetime.date(1860, 2, 3), 1), (datetime.date(1860, 5, 12), 0), (datetime.date(1860, 1, 24), 4), (datetime.date(1860, 6, 11), 2), (datetime.date(1860, 1, 12), 4), (datetime.date(1860, 7, 14), 1), (datetime.date(1860, 9, 11), 1), (datetime.date(1860, 10, 19), 0), (datetime.date(1860, 11, 20), 1), (datetime.date(1860, 9, 12), 0), (datetime.date(1860, 10, 26), 0), (datetime.date(1860, 5, 7), 3), (datetime.date(1860, 10, 4), 32), (datetime.date(1860, 12, 27), 0), (datetime.date(1860, 8, 21), 2), (datetime.date(1860, 4, 23), 2), (datetime.date(1860, 3, 15), 0), (datetime.date(1860, 12, 22), 0), (datetime.date(1860, 2, 29), 0), (datetime.date(1860, 11, 9), 0), (datetime.date(1860, 1, 14), 0), (datetime.date(1860, 11, 12), 2), (datetime.date(1860, 8, 27), 0), (datetime.date(1860, 2, 14), 0), (datetime.date(1860, 10, 10), 0), (datetime.date(1860, 5, 28), 4), (datetime.date(1860, 9, 1), 10), (datetime.date(1860, 10, 18), 3), (datetime.date(1860, 5, 2), 1), (datetime.date(1860, 7, 3), 2), (datetime.date(1860, 4, 4), 1), (datetime.date(1860, 4, 7), 1), (datetime.date(1860, 10, 1), 1), (datetime.date(1860, 3, 5), 3), (datetime.date(1860, 4, 20), 1), (datetime.date(1860, 1, 30), 2), (datetime.date(1860, 5, 8), 0), (datetime.date(1860, 6, 26), 0), (datetime.date(1860, 10, 12), 1), (datetime.date(1860, 8, 3), 1), (datetime.date(1860, 3, 23), 2), (datetime.date(1860, 5, 16), 1), (datetime.date(1860, 9, 20), 17), (datetime.date(1860, 3, 20), 17), (datetime.date(1860, 9, 26), 0), (datetime.date(1860, 5, 22), 0), (datetime.date(1860, 3, 26), 0), (datetime.date(1860, 12, 12), 2), (datetime.date(1860, 10, 6), 0), (datetime.date(1860, 3, 1), 0), (datetime.date(1860, 12, 26), 8), (datetime.date(1860, 3, 31), 0), (datetime.date(1860, 6, 29), 3), (datetime.date(1860, 6, 30), 0), (datetime.date(1860, 11, 24), 1), (datetime.date(1860, 3, 13), 1), (datetime.date(1860, 3, 30), 3), (datetime.date(1860, 9, 14), 1), (datetime.date(1860, 10, 25), 0), (datetime.date(1860, 7, 30), 1), (datetime.date(1860, 7, 4), 1), (datetime.date(1860, 2, 8), 2), (datetime.date(1860, 10, 16), 3), (datetime.date(1860, 8, 11), 0), (datetime.date(1860, 2, 2), 4), (datetime.date(1860, 8, 17), 0), (datetime.date(1860, 9, 19), 2), (datetime.date(1860, 12, 19), 3), (datetime.date(1860, 9, 10), 12), (datetime.date(1860, 12, 8), 0), (datetime.date(1860, 3, 10), 0), (datetime.date(1860, 12, 28), 2), (datetime.date(1860, 12, 31), 1), (datetime.date(1860, 1, 4), 0), (datetime.date(1860, 3, 3), 0), (datetime.date(1860, 7, 26), 9), (datetime.date(1860, 7, 13), 1), (datetime.date(1860, 2, 25), 0), (datetime.date(1860, 12, 7), 2), (datetime.date(1860, 1, 11), 1), (datetime.date(1860, 10, 30), 4), (datetime.date(1860, 4, 24), 3), (datetime.date(1860, 9, 3), 3), (datetime.date(1860, 11, 30), 1), (datetime.date(1860, 1, 13), 0), (datetime.date(1860, 8, 31), 2), (datetime.date(1860, 11, 22), 0), (datetime.date(1860, 10, 9), 17), (datetime.date(1860, 9, 27), 3), (datetime.date(1860, 5, 9), 3), (datetime.date(1860, 3, 22), 1), (datetime.date(1860, 7, 12), 1), (datetime.date(1860, 8, 24), 0), (datetime.date(1860, 1, 17), 1), (datetime.date(1860, 9, 22), 4), (datetime.date(1860, 4, 3), 1), (datetime.date(1860, 7, 9), 1), (datetime.date(1860, 6, 15), 1), (datetime.date(1860, 5, 5), 0), (datetime.date(1860, 9, 8), 0), (datetime.date(1860, 3, 19), 0), (datetime.date(1860, 10, 23), 0), (datetime.date(1860, 3, 17), 0), (datetime.date(1860, 9, 13), 6), (datetime.date(1860, 2, 17), 1), (datetime.date(1860, 11, 17), 0), (datetime.date(1860, 8, 18), 0), (datetime.date(1860, 10, 15), 0), (datetime.date(1860, 6, 5), 0), (datetime.date(1860, 5, 25), 0), (datetime.date(1860, 3, 28), 0), (datetime.date(1860, 2, 16), 0), (datetime.date(1860, 1, 31), 0), (datetime.date(1860, 4, 30), 0), (datetime.date(1860, 6, 23), 0), (datetime.date(1860, 5, 4), 3), (datetime.date(1860, 9, 18), 15), (datetime.date(1860, 7, 20), 0), (datetime.date(1860, 12, 25), 2), (datetime.date(1860, 7, 2), 0), (datetime.date(1860, 7, 24), 1), (datetime.date(1860, 1, 18), 0)]\n"
     ]
    }
   ],
   "source": [
    "python_dates=[]\n",
    "for d in dates:\n",
    "    date_in_datetime=datetime.date(int(d[0][0:4]),int(d[0][4:6]),int(d[0][6:8]))\n",
    "    python_dates.append((date_in_datetime,d[1]))\n",
    "    \n",
    "print(python_dates)"
   ]
  },
  {
   "cell_type": "code",
   "execution_count": 19,
   "metadata": {},
   "outputs": [],
   "source": [
    "%matplotlib inline"
   ]
  },
  {
   "cell_type": "code",
   "execution_count": 20,
   "metadata": {},
   "outputs": [
    {
     "data": {
      "image/png": "[encoded data removed]",
      "text/plain": [
       "<Figure size 432x288 with 1 Axes>"
      ]
     },
     "metadata": {},
     "output_type": "display_data"
    }
   ],
   "source": [
    "import matplotlib.pyplot as plt\n",
    "import matplotlib\n",
    "from matplotlib.dates import drange\n",
    "from numpy import zeros\n",
    "\n",
    "date1 = datetime.datetime(1860,1,1)\n",
    "date2 = datetime.datetime(1861,1,1)\n",
    "delta = datetime.timedelta(days=1)\n",
    "dates = drange(date1,date2,delta)\n",
    "data=zeros(len(dates))\n",
    "\n",
    "# fill in the data\n",
    "\n",
    "for ele in python_dates:\n",
    "    data[ele[0].toordinal()-date1.toordinal()]=ele[1]\n",
    "    \n",
    "fig, ax = matplotlib.pyplot.subplots()\n",
    "\n",
    "ax.plot_date(dates,data)\n",
    "\n",
    "fig.autofmt_xdate()\n",
    "\n",
    "plt.show()\n"
   ]
  },
  {
   "cell_type": "markdown",
   "metadata": {},
   "source": [
    "# Heat Map"
   ]
  },
  {
   "cell_type": "code",
   "execution_count": 21,
   "metadata": {},
   "outputs": [],
   "source": [
    "f=open(\"/project/datasets/TimesOCR/TDA_GDA_1785-2007/1860/18600102/0FFO-1860-JAN02.xml\",encoding=\"iso-8859-1\")\n",
    "newspaper_text=f.read()\n",
    "f.close()"
   ]
  },
  {
   "cell_type": "code",
   "execution_count": 22,
   "metadata": {},
   "outputs": [
    {
     "name": "stdout",
     "output_type": "stream",
     "text": [
      "['188,746,307,776', '37,2771,148,2800', '1351,1193,1638,1228', '847,1333,940,1362', '1453,1509,1602,1540', '931,1637,1107,1667', '1407,1633,1557,1664', '1303,1716,1453,1744', '1204,1881,1347,1912', '1116,1912,1439,1947', '1103,2012,1419,2049', '922,2107,1017,2140', '1150,2135,1469,2171', '3723,3807,3866,3834', '3704,3828,3807,3857', '3665,4040,3765,4070', '3269,4352,3375,4380', '1174,2261,1495,2298', '1152,2383,1483,2420', '853,2473,945,2499', '1448,2661,1539,2691', '847,3309,913,3335', '1161,5273,1284,5299', '1904,2389,2033,2418', '1984,2533,2167,2562', '2104,2619,2443,2652', '1945,4399,2081,4431', '2943,701,3053,728', '2705,1739,2914,1774', '3078,4308,3149,4340', '2804,4599,2866,4625', '2944,5162,3072,5189', '2573,5672,2713,5706', '3959,1248,4065,1278', '4430,6100,4532,6131', '118,2784,216,2815', '2708,4313,2883,4347', '3826,4311,3958,4341', '3313,4662,3362,4691', '364,4265,473,4295', '296,4520,411,4548', '466,4520,590,4552', '1275,3590,1388,3620', '1256,4902,1352,4930', '2008,565,2141,592', '2089,724,2222,756', '1627,842,1766,870', '2065,1518,2207,1551', '1929,1702,2076,1728', '1878,2336,2001,2366', '2168,3337,2338,3366', '2324,5255,2401,5283', '2170,5555,2332,5590', '2090,5821,2365,5859', '2472,401,2588,428', '4285,1626,4350,1649', '4073,2065,4365,2109', '4172,3355,4274,3383', '4506,5233,4778,5276', '1018,1157,1223,1189', '1735,4696,1870,4727', '2165,5791,2341,5831', '2780,289,2888,322', '2427,2062,2978,2104', '2662,5746,2797,5779', '2867,6372,2999,6405', '3318,547,3551,578', '3281,1886,3589,1930', '3270,5687,3396,5719', '3585,6033,3766,6065', '3530,6064,3963,6104', '657,3401,783,3435', '3329,2005,3482,2034', '3456,3998,3562,4031', '3945,4001,4071,4032', '3280,5700,3424,5730', '3790,5699,3990,5731', '712,4369,829,4396', '859,1755,966,1782', '1669,1329,1776,1356', '2209,1609,2318,1640', '1946,1737,2054,1768', '2283,3612,2391,3647', '3051,840,3159,875', '2746,2671,2866,2700', '2590,3464,2708,3493', '4267,910,4611,945', '4761,1487,4857,1526', '4370,2786,4484,2813', '4471,3573,4600,3604', '4495,3856,4599,3886', '4484,5170,4751,5201', '4446,6282,4581,6310', '637,2819,744,2850', '489,3604,627,3639', '2792,3173,2901,3205', '2572,3727,2683,3757', '2990,5355,3118,5386', '2538,5747,2661,5776', '3810,461,3919,498', '3596,2071,3703,2102', '3508,3695,3645,3730', '3843,3869,3981,3903', '3738,4989,3871,5019', '3533,5576,3769,5608', '3847,5765,3960,5801', '3880,5829,3988,5858', '1153,499,1302,530', '836,2115,1035,2146', '1175,3611,1305,3642', '848,3630,956,3662', '1333,5921,1428,5954', '1148,5965,1252,5999', '1788,3028,1962,3059', '2228,4146,2325,4177', '1624,4166,1697,4194', '1712,5581,1839,5611', '4611,2102,4736,2133', '4487,2338,4546,2362', '4346,3063,4494,3093', '4217,3548,4396,3583', '4369,3574,4551,3606', '4153,5107,4310,5139', '4374,5170,4554,5203', '4127,5322,4234,5352', '4476,5512,4670,5547', '4068,5534,4204,5566', '4261,5599,4453,5631', '603,865,756,897', '627,3385,736,3415', '656,3818,763,3845', '343,4298,483,4329', '367,4320,477,4351', '562,4341,720,4371', '454,4507,601,4538', '560,4715,803,4749', '943,2204,1069,2241', '1555,3464,1614,3492', '1478,3913,1588,3941', '1210,4350,1347,4387', '1136,5742,1236,5772', '1910,1896,2023,1924', '2237,2023,2379,2051', '2094,2123,2222,2153', '2035,2262,2210,2299', '1865,3598,1974,3627', '1694,4010,1823,4039', '1865,4231,1993,4263', '2520,1935,2643,1970', '2671,3147,2789,3181', '2515,4059,2630,4094', '2978,4089,3099,4123', '2659,4112,2800,4150', '2552,4695,2668,4729', '2430,5357,2543,5387', '3483,1335,3649,1371', '3795,2572,3895,2606', '3773,4360,3846,4396', '3808,4415,3879,4452', '3311,5537,3433,5572', '3427,6469,3567,6506', '4349,2876,4678,2911', '683,707,780,746', '229,3196,339,3234', '458,3275,563,3308', '588,3505,720,3544', '68,4513,152,4551', '594,5304,699,5342', '185,5332,269,5370', '1373,1784,1455,1820', '1522,2579,1609,2616', '899,4204,1073,4245', '934,5428,1053,5465', '840,5674,959,5711', '1044,6099,1183,6138', '2054,5002,2199,5040', '1872,5249,2085,5287', '1907,6219,2114,6254', '2106,3200,2187,3238', '2265,5514,2393,5555', '3599,1238,3720,1281', '4246,1774,4422,1814', '4684,2703,4774,2743', '4247,5917,4318,5946', '141,369,271,409', '598,1114,707,1152', '272,1501,359,1539', '652,2397,736,2435', '382,3291,469,3331', '301,4882,436,4929', '663,5438,771,5477', '1153,1107,1258,1146', '1362,6059,1497,6108', '1865,914,2018,954', '1793,1873,1916,1907', '2084,4088,2217,4125', '2150,6290,2414,6341', '2849,3444,3004,3481', '2876,4699,2984,4732', '3320,1341,3427,1375', '3220,3891,3386,3929', '3704,3945,3870,3987', '3856,4009,3929,4042', '4166,525,4308,563', '4134,2712,4289,2753', '4413,4831,4506,4865', '44,1525,196,1566', '209,3083,282,3114', '539,3347,642,3386', '190,3782,339,3817', '670,6202,842,6244', '157,6233,394,6274', '1341,1347,1423,1382', '914,1513,1000,1548', '845,2007,919,2042', '1448,2412,1589,2447', '1398,5423,1472,5457', '2009,5563,2168,5603', '1958,5821,2115,5872', '2609,168,2766,209', '3050,934,3184,973', '2583,3980,2672,4018', '3533,3781,3672,3820', '3763,4112,3896,4153', '3740,4781,3946,4822', '3258,5716,3336,5755', '3664,5785,3790,5823', '4407,2660,4532,2695', '4543,2964,4672,2997', '406,395,734,434', '1296,2803,1424,2842', '1460,2810,1614,2844', '1351,4362,1499,4396', '835,5099,914,5132', '2064,297,2182,334', '1748,1472,1874,1506', '1620,1603,1718,1637', '1788,3326,1862,3360', '3197,1152,3351,1189', '3785,1237,3975,1272', '2434,1707,2557,1744', '2465,1903,2633,1938', '2803,2699,2931,2736', '3017,3216,3180,3247', '2484,3318,2614,3354', '3691,2736,3840,2771', '3200,2814,3321,2849', '3195,3335,3348,3370', '4037,966,4194,1003', '3997,1413,4099,1442', '4047,1682,4157,1712', '4309,5310,4441,5342', '4348,5363,4510,5401', '699,2699,824,2740', '726,3837,824,3874', '593,5980,719,6026', '985,934,1090,971', '1889,3941,1961,3979', '2960,532,3080,565', '2622,1019,2839,1056', '2483,1073,2621,1110', '2665,1076,2783,1114', '2778,1157,2895,1196', '2970,2224,3122,2269', '2409,2390,2529,2427', '2648,2475,2765,2513', '2938,2892,3057,2926', '2831,3576,2950,3610', '3002,3715,3124,3754', '2701,4457,2924,4492', '3193,3228,3289,3265', '3828,3836,3967,3875', '3811,5546,3967,5583', '4002,1348,4288,1400', '553,2274,659,2306', '745,2422,853,2451', '547,2546,654,2575', '220,2683,322,2719', '236,4004,349,4031', '571,4855,719,4889', '1420,3617,1640,3649', '1842,2870,1916,2900', '3094,2632,3227,2670', '3333,2080,3495,2111', '3592,2355,3700,2388', '3836,5304,3927,5335', '604,1178,687,1205', '700,2499,802,2527', '302,5904,394,5932', '1034,911,1337,943', '905,3853,1126,3882', '1075,4541,1198,4569', '1108,5533,1232,5564', '2273,1600,2395,1630', '2167,2608,2354,2637', '1620,3165,1729,3195', '2194,3817,2364,3857', '1822,4991,1929,5022', '2781,6106,3025,6136', '2930,1038,3044,1070', '3989,198,4241,249', '651,3178,824,3208', '1059,1384,1195,1416', '1273,1946,1416,1979', '2756,2695,2890,2723', '2768,5352,2903,5384', '2778,5586,2925,5616', '2052,295,2179,326', '1761,1124,1979,1158', '1801,2935,1927,2966', '2182,3385,2344,3422', '1633,3445,1755,3477', '1876,5802,2012,5839', '1765,6162,1986,6205', '1976,6215,2163,6248', '2434,506,2528,537', '2915,543,3031,578', '2808,728,2943,764', '2886,1335,3045,1368', '2941,1536,3090,1575', '2892,1562,3035,1597', '3585,2152,3708,2184', '3465,3063,3604,3091', '3775,3513,3905,3544', '3660,3612,3796,3644', '3262,4107,3607,4142', '3754,4322,3898,4356', '3701,5161,3838,5200', '3204,6158,3434,6198', '4211,1214,4346,1248', '4087,4683,4200,4711', '281,893,371,922', '468,2022,581,2050', '325,5979,452,6011', '1095,481,1249,516', '973,2800,1052,2831', '1475,3369,1622,3398', '842,4009,970,4038', '1366,4805,1536,4835', '1380,4885,1543,4916', '1491,5140,1630,5179', '1286,5173,1420,5217', '1886,1594,2058,1624', '1731,6459,1873,6488', '2812,2117,3019,2154', '2457,5473,2588,5507', '3949,1969,4039,1999', '3402,2288,3475,2319', '3322,2352,3452,2382', '3401,2669,3595,2704', '3554,3049,3748,3081', '3551,4910,3719,4938', '3851,5951,3987,5982', '4209,2907,4310,2943', '4606,4990,4830,5020']\n"
     ]
    }
   ],
   "source": [
    "import re\n",
    "searchterm=\"war\"\n",
    "def process_newspaper(whole_newspaper):\n",
    "    list_of_lines=whole_newspaper.split(\"\\n\")\n",
    "    \n",
    "    list_positions=[]\n",
    "    regEx = re.compile(r\"<wd pos=\\\"(\\d+,\\d+,\\d+,\\d+)\\\">\")\n",
    "    for line in list_of_lines:\n",
    "        if (line.lower().count(searchterm))>0:\n",
    "            m = re.search(regEx,line)\n",
    "            if m != None:\n",
    "                list_positions.append(m.group(1))\n",
    "    return list_positions\n",
    "            \n",
    "print(process_newspaper(newspaper_text))"
   ]
  },
  {
   "cell_type": "code",
   "execution_count": 23,
   "metadata": {},
   "outputs": [
    {
     "name": "stdout",
     "output_type": "stream",
     "text": [
      "310\n"
     ]
    }
   ],
   "source": [
    "xmlfiles=sc.wholeTextFiles('/project/datasets/TimesOCR/TDA_GDA_1785-2007/1860/1860*/*.xml',64)\n",
    "#xmlfiles=sc.wholeTextFiles('/project/datasets/TimesOCR/TDA_GDA_1785-2007/1860/18600102/0FFO-1860-JAN02.xml')\n",
    "print(xmlfiles.count())"
   ]
  },
  {
   "cell_type": "code",
   "execution_count": 24,
   "metadata": {},
   "outputs": [],
   "source": [
    "position_data=xmlfiles.flatMap(lambda el: process_newspaper(el[1]))"
   ]
  },
  {
   "cell_type": "code",
   "execution_count": 25,
   "metadata": {},
   "outputs": [],
   "source": [
    "positions=position_data.collect()"
   ]
  },
  {
   "cell_type": "code",
   "execution_count": null,
   "metadata": {
    "scrolled": true
   },
   "outputs": [],
   "source": [
    "import numpy as np\n",
    "frontPage = np.zeros((7000,5250))\n",
    "frontPage = frontPage.astype('uint32')\n",
    "\n",
    "for p in positions:\n",
    "    pos = str(p).split(\",\")\n",
    "    posList=[int(item) for item in pos]\n",
    "    frontPage[posList[1]:posList[3],posList[0]:posList[2]] += 1\n",
    "    \n",
    "import matplotlib.pyplot as plt\n",
    "plt.figure(figsize=(200,200))\n",
    "image = plt.imshow(frontPage)\n",
    "plt.show()"
   ]
  },
  {
   "cell_type": "code",
   "execution_count": null,
   "metadata": {},
   "outputs": [],
   "source": []
  }
 ],
 "metadata": {
  "kernelspec": {
   "display_name": "Python 3",
   "language": "python",
   "name": "python3"
  },
  "language_info": {
   "codemirror_mode": {
    "name": "ipython",
    "version": 3
   },
   "file_extension": ".py",
   "mimetype": "text/x-python",
   "name": "python",
   "nbconvert_exporter": "python",
   "pygments_lexer": "ipython3",
   "version": "3.6.3"
  }
 },
 "nbformat": 4,
 "nbformat_minor": 2
}
