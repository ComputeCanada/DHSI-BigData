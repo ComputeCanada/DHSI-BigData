{
 "metadata": {
  "name": ""
 },
 "nbformat": 3,
 "nbformat_minor": 0,
 "worksheets": [
  {
   "cells": [
    {
     "cell_type": "code",
     "collapsed": false,
     "input": [
      "import re\n",
      "import numpy as np\n",
      "\n",
      "#import findspark\n",
      "import os\n",
      "#findspark.init()\n",
      "\n",
      "import pyspark\n",
      "sc = pyspark.SparkContext()"
     ],
     "language": "python",
     "metadata": {},
     "outputs": [],
     "prompt_number": 1
    },
    {
     "cell_type": "code",
     "collapsed": false,
     "input": [
      "from random import random\n",
      "from operator import add\n",
      "\n",
      "def f(_):\n",
      "        x = random() * 2 - 1\n",
      "        y = random() * 2 - 1\n",
      "        return 1 if x ** 2 + y ** 2 < 1 else 0\n",
      "\n",
      "n=40000\n",
      "count = sc.parallelize(range(1, n + 1)).map(f).reduce(add)\n",
      "print(\"Pi is roughly %f\" % (4.0 * count / n))"
     ],
     "language": "python",
     "metadata": {},
     "outputs": [
      {
       "output_type": "stream",
       "stream": "stdout",
       "text": [
        "Pi is roughly 3.124200\n"
       ]
      }
     ],
     "prompt_number": 7
    },
    {
     "cell_type": "code",
     "collapsed": false,
     "input": [
      "import Image\n",
      "import pytesseract\n",
      "from cStringIO import StringIO\n",
      "\n",
      "def process_image(imagedata):\n",
      "    # Image.open takes file-like data, returns an image object    \n",
      "    file_jpgdata = StringIO(imagedata)\n",
      "    im = Image.open(file_jpgdata)\n",
      "    zz = pytesseract.image_to_string(im)\n",
      "    return zz\n",
      "\n",
      "def see_set_content(something):\n",
      "    zz = process_image(something[1])\n",
      "    return zz\n",
      "\n",
      "binaryfiles = sc.binaryFiles('/home/pepegonz/test1.jpg')\n",
      "binaryfiles.cache()\n",
      "\n",
      "output = binaryfiles.map(see_set_content)\n",
      "zout=output.collect()\n",
      "#print(output.collect())\n",
      "\n",
      "# nice print of first file\n",
      "for line in zout[0].split(\"\\n\"):\n",
      "    print(line)"
     ],
     "language": "python",
     "metadata": {},
     "outputs": [
      {
       "output_type": "stream",
       "stream": "stdout",
       "text": [
        "The Life and Work of\n",
        "Fredson Bowers\n",
        "\n",
        "by\n",
        "G. THOMAS TANSELLE\n",
        "\n",
        " \n",
        "\n",
        "N rvesr new or cunravor rum are a raw rrnuecs wnosc Accolvl\u00bb\n",
        "plishinenr and in\ufb02uence cause them to bc rhe symbols oi rheir age;\n",
        "iheir careers and oeuvres become the tullchstunes by which lhe\n",
        "\ufb01eld is measured and iLs hisiory sold. in she related pursuils oi\n",
        "\n",
        "analyrical and descripiive bibliography, textual crilirism, and scholarly\n",
        "ediring. Frcdson Bowers was such a \ufb01glu'c. dominaung rhe four decades\n",
        "aher i949, when his Principlz: of Bibliogmphilrzll Descripnon was pub-\n",
        "lished. By X973 she period was already being called \u201cdie age ol Bowers\u201d:\n",
        "in char year Norman Sanders, wriiing the chaprer on Lexlnal scholarship\n",
        "for Sranley Wells's Shllhe'symre: Select Bioliographier, gave rhis ride lo\n",
        "a secrion of his essay. For rnosi people. is would he achievernenr enough\n",
        "to rise to such a posirion in a iield as complex as Shakespearean textual\n",
        "surdies; but Bowers played an equally imporram role in olher areas.\n",
        "Edirors oi ninereenihcernury American anchors, lor example. would\n",
        "also have in call rhe recent pass \"she age or Bowers,\" as would the rvrirers\n",
        "of descriprive bibliugraphies oi anchors and presse l-lis ubiqllily in\n",
        "the broad \ufb01eld of bibliographical and lexmal srudy, his seemingly corn.\n",
        "plele possession of it, distinguished him lrom his illusrrinus prellcces~\n",
        "sors and made him the personi\ufb01calion of bibliographical seholarship in\n",
        "his lime.\n",
        "\n",
        "When in i959 Bowers was awarded rhe Gold Medal of the Biblio-\n",
        "gnphical Sociery in London, John Carter's ciaarian referred to the\n",
        "Principles as \u201cmajescier called llowers's currenr pa-ojecrs \u201clormidahle,\u201d\n",
        "said that he had \u201cimposed criucil] discipline\u201c on she rams of several\n",
        "authors, described Sludies in Bibliography as a \"great and coniinuing\n",
        "achievemenr,\" and ineluded among his charachrislics \u201cuncompromising\n",
        "seriousness oi purpose\" and \"pro[essl'onal intensity.\" Bowers was nor\n",
        "noaccusromed to such encomia, but he had also experienced his share ui\n",
        "attacks: his seholarly posirions were nor universally popular, and he\n",
        "expressed chem with an aggressiveness rhac almosr seemed calculaled m\n"
       ]
      }
     ],
     "prompt_number": 27
    },
    {
     "cell_type": "code",
     "collapsed": false,
     "input": [
      "import Image\n",
      "import pytesseract\n",
      "\n",
      "zz = pytesseract.image_to_string(Image.open('test1.jpg'))\n",
      "\n",
      "print(zz)"
     ],
     "language": "python",
     "metadata": {},
     "outputs": [
      {
       "output_type": "stream",
       "stream": "stdout",
       "text": [
        "The Life and Work of\n",
        "Fredson Bowers\n",
        "\n",
        "by\n",
        "G. THOMAS TANSELLE\n",
        "\n",
        " \n",
        "\n",
        "N rvesr new or cunravor rum are a raw rrnuecs wnosc Accolvl\u00bb\n",
        "plishinenr and in\ufb02uence cause them to bc rhe symbols oi rheir age;\n",
        "iheir careers and oeuvres become the tullchstunes by which lhe\n",
        "\ufb01eld is measured and iLs hisiory sold. in she related pursuils oi\n",
        "\n",
        "analyrical and descripiive bibliography, textual crilirism, and scholarly\n",
        "ediring. Frcdson Bowers was such a \ufb01glu'c. dominaung rhe four decades\n",
        "aher i949, when his Principlz: of Bibliogmphilrzll Descripnon was pub-\n",
        "lished. By X973 she period was already being called \u201cdie age ol Bowers\u201d:\n",
        "in char year Norman Sanders, wriiing the chaprer on Lexlnal scholarship\n",
        "for Sranley Wells's Shllhe'symre: Select Bioliographier, gave rhis ride lo\n",
        "a secrion of his essay. For rnosi people. is would he achievernenr enough\n",
        "to rise to such a posirion in a iield as complex as Shakespearean textual\n",
        "surdies; but Bowers played an equally imporram role in olher areas.\n",
        "Edirors oi ninereenihcernury American anchors, lor example. would\n",
        "also have in call rhe recent pass \"she age or Bowers,\" as would the rvrirers\n",
        "of descriprive bibliugraphies oi anchors and presse l-lis ubiqllily in\n",
        "the broad \ufb01eld of bibliographical and lexmal srudy, his seemingly corn.\n",
        "plele possession of it, distinguished him lrom his illusrrinus prellcces~\n",
        "sors and made him the personi\ufb01calion of bibliographical seholarship in\n",
        "his lime.\n",
        "\n",
        "When in i959 Bowers was awarded rhe Gold Medal of the Biblio-\n",
        "gnphical Sociery in London, John Carter's ciaarian referred to the\n",
        "Principles as \u201cmajescier called llowers's currenr pa-ojecrs \u201clormidahle,\u201d\n",
        "said that he had \u201cimposed criucil] discipline\u201c on she rams of several\n",
        "authors, described Sludies in Bibliography as a \"great and coniinuing\n",
        "achievemenr,\" and ineluded among his charachrislics \u201cuncompromising\n",
        "seriousness oi purpose\" and \"pro[essl'onal intensity.\" Bowers was nor\n",
        "noaccusromed to such encomia, but he had also experienced his share ui\n",
        "attacks: his seholarly posirions were nor universally popular, and he\n",
        "expressed chem with an aggressiveness rhac almosr seemed calculaled m\n"
       ]
      }
     ],
     "prompt_number": 16
    },
    {
     "cell_type": "code",
     "collapsed": false,
     "input": [],
     "language": "python",
     "metadata": {},
     "outputs": []
    }
   ],
   "metadata": {}
  }
 ]
}