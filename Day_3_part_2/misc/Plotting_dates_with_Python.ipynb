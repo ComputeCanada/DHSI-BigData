{
 "metadata": {
  "name": ""
 },
 "nbformat": 3,
 "nbformat_minor": 0,
 "worksheets": [
  {
   "cells": [
    {
     "cell_type": "heading",
     "level": 1,
     "metadata": {},
     "source": [
      "Plotting dates in Python\n"
     ]
    },
    {
     "cell_type": "code",
     "collapsed": false,
     "input": [
      "import datetime\n",
      "\n",
      "today = datetime.date.today()\n",
      "print today\n",
      "print 'ctime:', today.ctime()\n",
      "print 'tuple:', today.timetuple()\n",
      "print 'ordinal:', today.toordinal()\n",
      "print 'Year:', today.year\n",
      "print 'Mon :', today.month\n",
      "print 'Day :', today.day"
     ],
     "language": "python",
     "metadata": {},
     "outputs": [
      {
       "output_type": "stream",
       "stream": "stdout",
       "text": [
        "2016-06-11\n",
        "ctime: Sat Jun 11 00:00:00 2016\n",
        "tuple: time.struct_time(tm_year=2016, tm_mon=6, tm_mday=11, tm_hour=0, tm_min=0, tm_sec=0, tm_wday=5, tm_yday=163, tm_isdst=-1)\n",
        "ordinal: 736126\n",
        "Year: 2016\n",
        "Mon : 6\n",
        "Day : 11\n"
       ]
      }
     ],
     "prompt_number": 4
    },
    {
     "cell_type": "code",
     "collapsed": false,
     "input": [
      "testdate = datetime.date(2016,6,11)\n",
      "print(testdate.year)\n",
      "print(testdate.month)\n",
      "print(testdate.day)"
     ],
     "language": "python",
     "metadata": {},
     "outputs": [
      {
       "output_type": "stream",
       "stream": "stdout",
       "text": [
        "2016\n",
        "6\n",
        "11\n"
       ]
      }
     ],
     "prompt_number": 20
    },
    {
     "cell_type": "code",
     "collapsed": false,
     "input": [
      "dir(testdate)\n"
     ],
     "language": "python",
     "metadata": {},
     "outputs": [
      {
       "metadata": {},
       "output_type": "pyout",
       "prompt_number": 10,
       "text": [
        "['__add__',\n",
        " '__class__',\n",
        " '__delattr__',\n",
        " '__doc__',\n",
        " '__eq__',\n",
        " '__format__',\n",
        " '__ge__',\n",
        " '__getattribute__',\n",
        " '__gt__',\n",
        " '__hash__',\n",
        " '__init__',\n",
        " '__le__',\n",
        " '__lt__',\n",
        " '__ne__',\n",
        " '__new__',\n",
        " '__radd__',\n",
        " '__reduce__',\n",
        " '__reduce_ex__',\n",
        " '__repr__',\n",
        " '__rsub__',\n",
        " '__setattr__',\n",
        " '__sizeof__',\n",
        " '__str__',\n",
        " '__sub__',\n",
        " '__subclasshook__',\n",
        " 'ctime',\n",
        " 'day',\n",
        " 'fromordinal',\n",
        " 'fromtimestamp',\n",
        " 'isocalendar',\n",
        " 'isoformat',\n",
        " 'isoweekday',\n",
        " 'max',\n",
        " 'min',\n",
        " 'month',\n",
        " 'replace',\n",
        " 'resolution',\n",
        " 'strftime',\n",
        " 'timetuple',\n",
        " 'today',\n",
        " 'toordinal',\n",
        " 'weekday',\n",
        " 'year']"
       ]
      }
     ],
     "prompt_number": 10
    },
    {
     "cell_type": "code",
     "collapsed": false,
     "input": [
      "# find out what day it was on a particular date\n",
      "testdate = datetime.date(2016,6,11)\n",
      "print(testdate.weekday())"
     ],
     "language": "python",
     "metadata": {},
     "outputs": [
      {
       "output_type": "stream",
       "stream": "stdout",
       "text": [
        "5\n"
       ]
      }
     ],
     "prompt_number": 22
    },
    {
     "cell_type": "code",
     "collapsed": false,
     "input": [
      "# compare which date was earlier\n",
      "testdate = datetime.date(2016,6,11)\n",
      "testdate1 = datetime.date(2016,6,18)\n",
      "testdate1< testdate"
     ],
     "language": "python",
     "metadata": {},
     "outputs": [
      {
       "metadata": {},
       "output_type": "pyout",
       "prompt_number": 27,
       "text": [
        "False"
       ]
      }
     ],
     "prompt_number": 27
    },
    {
     "cell_type": "code",
     "collapsed": false,
     "input": [
      "# get today's date\n",
      "today = datetime.date.today()\n",
      "type(today)\n",
      "# number of days from beginning of Gregorian calendar\n",
      "print(\"proleptic Gregorian ordinal\",today.toordinal())"
     ],
     "language": "python",
     "metadata": {},
     "outputs": [
      {
       "output_type": "stream",
       "stream": "stdout",
       "text": [
        "('proleptic Gregorian ordinal', 736126)\n"
       ]
      }
     ],
     "prompt_number": 31
    },
    {
     "cell_type": "code",
     "collapsed": false,
     "input": [
      "# form date from integer date\n",
      "another=datetime.date.fromordinal(736126)\n",
      "print(another)"
     ],
     "language": "python",
     "metadata": {},
     "outputs": [
      {
       "output_type": "stream",
       "stream": "stdout",
       "text": [
        "2016-06-11\n"
       ]
      }
     ],
     "prompt_number": 35
    },
    {
     "cell_type": "code",
     "collapsed": false,
     "input": [
      "# find date 1000 days from now\n",
      "today = datetime.date.today()\n",
      "print( datetime.date.fromordinal(today.toordinal()+1000))"
     ],
     "language": "python",
     "metadata": {},
     "outputs": [
      {
       "output_type": "stream",
       "stream": "stdout",
       "text": [
        "2019-03-08\n"
       ]
      }
     ],
     "prompt_number": 39
    },
    {
     "cell_type": "code",
     "collapsed": false,
     "input": [
      "# here are the limits of years that can be represented\n",
      "print(datetime.MINYEAR)\n",
      "print(datetime.MAXYEAR)"
     ],
     "language": "python",
     "metadata": {},
     "outputs": [
      {
       "output_type": "stream",
       "stream": "stdout",
       "text": [
        "1\n",
        "9999\n"
       ]
      }
     ],
     "prompt_number": 44
    },
    {
     "cell_type": "code",
     "collapsed": false,
     "input": [
      "# plotting is always done by converting date to ordinal\n",
      "# the trick is to hide the ordinal number and present human readable date as tick\n",
      "import datetime\n",
      "import matplotlib.pyplot as plt\n",
      "from matplotlib.dates import drange\n",
      "from numpy import arange,zeros\n",
      "%matplotlib inline\n",
      "\n",
      "date1 = datetime.datetime(1916, 1, 1)\n",
      "date2 = datetime.datetime(1916, 12, 31)\n",
      "delta = datetime.timedelta(days=1)\n",
      "dates = drange(date1, date2, delta)\n",
      "data = zeros(len(dates))\n",
      "\n",
      "\n",
      "daten = datetime.datetime(1916, 9, 1)\n",
      "y[daten.toordinal()-date1.toordinal()]=7\n",
      "\n",
      "fig, ax = plt.subplots()\n",
      "ax.plot_date(dates, y)\n",
      "\n",
      "#ax.fmt_xdata = DateFormatter('%Y-%m-%d %H:%M:%S')\n",
      "fig.autofmt_xdate()\n",
      "\n",
      "plt.show()"
     ],
     "language": "python",
     "metadata": {},
     "outputs": [
      {
       "metadata": {},
       "output_type": "display_data",
       "png": "[encoded data removed]",
       "text": [
        "<matplotlib.figure.Figure at 0x7f8bac1be250>"
       ]
      }
     ],
     "prompt_number": 70
    },
    {
     "cell_type": "code",
     "collapsed": false,
     "input": [],
     "language": "python",
     "metadata": {},
     "outputs": []
    }
   ],
   "metadata": {}
  }
 ]
}