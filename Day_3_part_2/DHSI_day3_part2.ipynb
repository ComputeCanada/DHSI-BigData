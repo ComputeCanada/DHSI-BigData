{
 "cells": [
  {
   "cell_type": "markdown",
   "metadata": {},
   "source": [
    "# DHSI Day 3 - Part 2"
   ]
  },
  {
   "cell_type": "markdown",
   "metadata": {},
   "source": [
    "Outline\n",
    "\n",
    "Goal: add Optical Character Recognition to analysis\n",
    "\n",
    "* one\n",
    "* two\n",
    "* three"
   ]
  },
  {
   "cell_type": "markdown",
   "metadata": {},
   "source": [
    "## OCR with Tesseract"
   ]
  },
  {
   "cell_type": "markdown",
   "metadata": {},
   "source": [
    "### Direct use of Tesseract"
   ]
  },
  {
   "cell_type": "code",
   "execution_count": null,
   "metadata": {
    "collapsed": false
   },
   "outputs": [],
   "source": [
    "from IPython.display import Image as Img\n",
    "Img(filename='sample_text.jpg')"
   ]
  },
  {
   "cell_type": "code",
   "execution_count": null,
   "metadata": {
    "collapsed": false
   },
   "outputs": [],
   "source": [
    "! tesseract sample_text.jpg stdout"
   ]
  },
  {
   "cell_type": "code",
   "execution_count": null,
   "metadata": {
    "collapsed": false
   },
   "outputs": [],
   "source": [
    "! tesseract sample_text.jpg output\n",
    "! head output.txt"
   ]
  },
  {
   "cell_type": "markdown",
   "metadata": {},
   "source": [
    "### Use tesseract in Python with pytesseract"
   ]
  },
  {
   "cell_type": "markdown",
   "metadata": {},
   "source": [
    "## Beautiful Soup demo"
   ]
  },
  {
   "cell_type": "raw",
   "metadata": {},
   "source": [
    "To install on Ubuntu: sudo apt-get install python-bs4"
   ]
  },
  {
   "cell_type": "code",
   "execution_count": null,
   "metadata": {
    "collapsed": false
   },
   "outputs": [],
   "source": [
    "from bs4 import BeautifulSoup\n",
    "\n",
    "f=open(\"shorter_example\")\n",
    "soup = BeautifulSoup(f,\"lxml\")\n",
    "f.close()\n",
    "\n",
    "taglist = soup.find_all(\"text\")\n",
    "\n",
    "print(soup.prettify())"
   ]
  },
  {
   "cell_type": "markdown",
   "metadata": {},
   "source": [
    "### Search for occurences of term in single file"
   ]
  },
  {
   "cell_type": "code",
   "execution_count": null,
   "metadata": {
    "collapsed": false
   },
   "outputs": [],
   "source": [
    "from bs4 import BeautifulSoup\n",
    "import Image\n",
    "from cStringIO import StringIO\n",
    "import pytesseract\n",
    "\n",
    "def process_file(f):\n",
    "    \n",
    "    output_list=[]\n",
    "    \n",
    "    soup = BeautifulSoup(f,\"lxml\")\n",
    "    taglist = soup.find_all(\"text\")\n",
    "    \n",
    "    for tagtxt in taglist: \n",
    "        pageinfo=tagtxt.find_all(\"pg\")\n",
    "        \n",
    "# check if search term occurs in text tag\n",
    "        termfound=False\n",
    "        words=tagtxt.find_all(\"wd\")\n",
    "        for w in words:\n",
    "            if(w.string == searchterm):\n",
    "                termfound=True\n",
    "                print(\"FOUND\")\n",
    "\n",
    "# if yes, scan the text in tag\n",
    "        if(termfound==True):\n",
    "            for p in pageinfo:\n",
    "                textbox=p[\"pos\"].split(\",\")\n",
    "                textbox=map(int,textbox) # convert 4 strings to 4 integers\n",
    "                pagenumber=p[\"pgref\"]\n",
    "                imagefile=f.name.strip(\".xml\")+\"-\"+pagenumber.zfill(3)+\".jpg\"\n",
    "                im = Image.open(imagefile)\n",
    "                im_cropped = im.crop(textbox)  \n",
    "\n",
    "#                im_cropped.save(\"test2.jpg\")\n",
    "                textOCR = pytesseract.image_to_string(im_cropped)\n",
    "                print(imagefile,textbox)\n",
    "                print(textOCR.count(searchterm))\n",
    "                output_list.append([imagefile,textbox ])\n",
    "            \n",
    "    return output_list\n",
    "\n",
    "\n",
    "searchterm = \"Somme\"\n",
    "f=open(\"0FFO-1916-SEP29.xml\")\n",
    "output_list=process_file(f)\n",
    "f.close()\n",
    "print(output_list)"
   ]
  },
  {
   "cell_type": "code",
   "execution_count": null,
   "metadata": {
    "collapsed": false
   },
   "outputs": [],
   "source": [
    "from bs4 import BeautifulSoup\n",
    "import Image\n",
    "from cStringIO import StringIO\n",
    "import pytesseract\n",
    "\n",
    "def process_file(f):\n",
    "    \n",
    "    output_list=[]\n",
    "    \n",
    "    soup = BeautifulSoup(f,\"lxml\")\n",
    "    taglist = soup.find_all(\"text\")\n",
    "    \n",
    "    for tagtxt in taglist: \n",
    "        pageinfo=tagtxt.find_all(\"pg\")\n",
    "        \n",
    "# check if search term occurs in text tag\n",
    "        termfound=False\n",
    "        words=tagtxt.find_all(\"wd\")\n",
    "        for w in words:\n",
    "            if(w.string == searchterm):\n",
    "                termfound=True\n",
    "                print(\"FOUND\")\n",
    "\n",
    "        if(termfound==True):\n",
    "            for p in pageinfo:\n",
    "                textbox=p[\"pos\"].split(\",\")\n",
    "                textbox=map(int,textbox) # convert 4 strings to 4 integers\n",
    "                pagenumber=p[\"pgref\"]\n",
    "                imagefile=f.name.strip(\".xml\")+\"-\"+pagenumber.zfill(3)+\".jpg\"\n",
    "                output_list.append([imagefile,textbox ])\n",
    "            \n",
    "    return output_list\n",
    "\n",
    "def process_image_file(fim):\n",
    "    \n",
    "    list_of_boxes=[]\n",
    "    for element in output_list:\n",
    "        if element[0]==fim.name:\n",
    "            list_of_boxes.append(element[1])\n",
    "    \n",
    "    totalfound=0\n",
    "    if( len(list_of_boxes)>0 ):\n",
    "        im = Image.open(fim)\n",
    "        \n",
    "        for box in list_of_boxes:\n",
    "            im_cropped = im.crop(box)\n",
    "            textOCR = pytesseract.image_to_string(im_cropped)\n",
    "            totalfound=totalfound+textOCR.count(\"Somme\")\n",
    "            \n",
    "    return totalfound\n",
    "            \n",
    "searchterm = \"Somme\"\n",
    "f=open(\"0FFO-1916-SEP29.xml\")\n",
    "output_list=process_file(f)\n",
    "f.close()\n",
    "print(output_list)\n",
    "\n",
    "\n",
    "file_image=open(\"0FFO-1916-SEP29-006.jpg\",\"r\")\n",
    "result=process_image_file(file_image)\n",
    "file_image.close()\n",
    "\n",
    "print(\"total found is \",result)\n"
   ]
  },
  {
   "cell_type": "code",
   "execution_count": null,
   "metadata": {
    "collapsed": false
   },
   "outputs": [],
   "source": [
    "import findspark\n",
    "import os\n",
    "findspark.init()\n",
    "\n",
    "import pyspark\n",
    "sc = pyspark.SparkContext()"
   ]
  },
  {
   "cell_type": "code",
   "execution_count": null,
   "metadata": {
    "collapsed": false
   },
   "outputs": [],
   "source": [
    "from bs4 import BeautifulSoup\n",
    "import Image\n",
    "from cStringIO import StringIO\n",
    "import pytesseract\n",
    "\n",
    "def process_file_spark(something):\n",
    "    \n",
    "    filename=something[0]\n",
    "    f=something[1]\n",
    "    output_list=[]\n",
    "    \n",
    "    soup = BeautifulSoup(f,\"lxml\")\n",
    "    taglist = soup.find_all(\"text\")\n",
    "    \n",
    "    for tagtxt in taglist: \n",
    "        pageinfo=tagtxt.find_all(\"pg\")\n",
    "        \n",
    "# check if search term occurs in text tag\n",
    "        termfound=False\n",
    "        words=tagtxt.find_all(\"wd\")\n",
    "        for w in words:\n",
    "            if(w.string == searchterm):\n",
    "                termfound=True\n",
    "                print(\"FOUND\")\n",
    "\n",
    "        if(termfound==True):\n",
    "            for p in pageinfo:\n",
    "                textbox=p[\"pos\"].split(\",\")\n",
    "                textbox=map(int,textbox) # convert 4 strings to 4 integers\n",
    "                pagenumber=p[\"pgref\"]\n",
    "                imagefile=filename.strip(\".xml\")+\"-\"+pagenumber.zfill(3)+\".jpg\"\n",
    "                output_list.append([imagefile,textbox ])\n",
    "            \n",
    "    return output_list\n",
    "\n",
    "def process_image_file_spark(something):\n",
    "    \n",
    "    filename=something[0]\n",
    "    list_of_boxes=[]\n",
    "    for element in output_list:\n",
    "        for element1 in element:\n",
    "            if element1[0]==filename:\n",
    "                list_of_boxes.append(element1[1])\n",
    "    \n",
    "    totalfound=0\n",
    "\n",
    "    if( len(list_of_boxes)>0 ):\n",
    "        image_data=StringIO(something[1])\n",
    "        im=Image.open(image_data)\n",
    "        \n",
    "        for box in list_of_boxes:\n",
    "            im_cropped = im.crop(box)\n",
    "            textOCR = pytesseract.image_to_string(im_cropped)\n",
    "            totalfound=totalfound+textOCR.count(searchterm)\n",
    "    return totalfound\n",
    "\n",
    "searchterm = \"Somme\"\n",
    "\n",
    "#xmlfiles=sc.wholeTextFiles('hdfs://hdp:9000/pawel/day3/0F*xml')\n",
    "xmlfiles=sc.wholeTextFiles('hdfs://localhost:9000/pawel/day3/0F*xml')\n",
    "\n",
    "xmlfiles.cache()\n",
    "output=xmlfiles.map(process_file_spark)\n",
    "\n",
    "output_list=output.collect()\n",
    "print(\"outside\",output_list)\n",
    "\n",
    "#imgfiles=sc.binaryFiles('hdfs://hdp:9000/pawel/day3/0F*jpg')\n",
    "imgfiles=sc.binaryFiles('hdfs://localhost:9000/pawel/day3/0F*jpg')\n",
    "\n",
    "imgfiles.cache()\n",
    "\n",
    "globalcount = imgfiles.map(process_image_file_spark)\n",
    "\n",
    "print(\"global count is \",globalcount.collect())"
   ]
  },
  {
   "cell_type": "markdown",
   "metadata": {},
   "source": [
    "## Scan for occurences of search term - make histogram of data"
   ]
  },
  {
   "cell_type": "markdown",
   "metadata": {},
   "source": [
    "## Improve scan by doing actual OCR on images"
   ]
  },
  {
   "cell_type": "code",
   "execution_count": null,
   "metadata": {
    "collapsed": false
   },
   "outputs": [],
   "source": []
  }
 ],
 "metadata": {
  "kernelspec": {
   "display_name": "Python 2",
   "language": "python",
   "name": "python2"
  },
  "language_info": {
   "codemirror_mode": {
    "name": "ipython",
    "version": 2
   },
   "file_extension": ".py",
   "mimetype": "text/x-python",
   "name": "python",
   "nbconvert_exporter": "python",
   "pygments_lexer": "ipython2",
   "version": "2.7.6"
  }
 },
 "nbformat": 4,
 "nbformat_minor": 0
}
